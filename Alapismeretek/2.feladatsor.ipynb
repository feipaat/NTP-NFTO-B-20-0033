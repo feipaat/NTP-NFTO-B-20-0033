{
 "cells": [
  {
   "cell_type": "markdown",
   "metadata": {
    "collapsed": false
   },
   "source": [
    "## <center>Normált terek és a fixponttétel</center>"
   ]
  },
  {
   "cell_type": "markdown",
   "metadata": {
    "collapsed": false
   },
   "source": [
    "### Vektornormák"
   ]
  },
  {
   "cell_type": "markdown",
   "metadata": {
    "collapsed": false
   },
   "source": [
    "<br>\n",
    "<b>1.feladat.</b> A <i>max</i> és <i>abs</i> beépített függvények segítségével írjunk programot <i>p_max_norma.m</i> fájl néven, amely egy adott valós $x\\in \\mathbb{R}^n$ vektor felhasználó által kért $p$-normáját és maximumnormáját kiszámolja!\n"
   ]
  },
  {
   "cell_type": "code",
   "execution_count": 14,
   "metadata": {
    "collapsed": false
   },
   "outputs": [
    {
     "name": "stdout",
     "output_type": "stream",
     "text": [
      "x =\n",
      "\n",
      "   1   2  -3\n",
      "\n",
      "p =  11\n",
      "norma_p =  3.003138080795621\n",
      "norma_max =  3\n"
     ]
    }
   ],
   "source": [
    "format long\n",
    "x=[1 2 -3]\n",
    "p=11\n",
    "norma_p=(sum(abs(x).^p))^(1/p)\n",
    "norma_max=max(abs(x))"
   ]
  },
  {
   "cell_type": "code",
   "execution_count": 15,
   "metadata": {
    "collapsed": false
   },
   "outputs": [
    {
     "name": "stdout",
     "output_type": "stream",
     "text": [
      "norma_p =  3.003138080795621\r\n",
      "norma_max =  3\r\n"
     ]
    }
   ],
   "source": [
    "[norma_p, norma_max]=p_max_norma([1 2 -3],11)"
   ]
  },
  {
   "cell_type": "markdown",
   "metadata": {
    "collapsed": false
   },
   "source": [
    "<br><center>\n",
    "<img src=\"unitballs.png\" width=\"470\"></center>\n",
    "<center>A sík egységkörei ($p=1,2\\ \\infty$)</center>"
   ]
  },
  {
   "cell_type": "markdown",
   "metadata": {
    "collapsed": false
   },
   "source": [
    "### Indukált mátrixnormák, kondíciószám"
   ]
  },
  {
   "cell_type": "markdown",
   "metadata": {
    "collapsed": false
   },
   "source": [
    "<br>\n",
    "<b>2.feladat.</b> A <i>norm</i> beépített parancs segítségével határozzuk meg egy adott $A\\in\\mathbb{R}^{4\\times 4}$ mátrix 1-es, 2-es, maximum és Frobenius normáit."
   ]
  },
  {
   "cell_type": "code",
   "execution_count": 16,
   "metadata": {
    "collapsed": false
   },
   "outputs": [
    {
     "name": "stdout",
     "output_type": "stream",
     "text": [
      "A =\n",
      "\n",
      "   12    3   -4    0\n",
      "    2   42   -4  -55\n",
      "   22    0    3    4\n",
      "    3   -4    2    0\n",
      "\n",
      "ans =  59\n",
      "ans =  69.48780759222245\n",
      "ans =  103\n",
      "ans =  74.26977851050856\n"
     ]
    }
   ],
   "source": [
    "A = [ 12 3 -4 0; 2 42 -4 -55; 22 0 3 4; 3 -4 2 0]\n",
    "norm(A,1)\n",
    "norm(A,2)\n",
    "norm(A,'inf')\n",
    "norm(A,'fro')"
   ]
  },
  {
   "cell_type": "markdown",
   "metadata": {
    "collapsed": false
   },
   "source": [
    "<br>\n",
    "<b>3.feladat.</b> A <i>norm</i> beépített parancs használata nélkül írjunk programot, mely egy adott $A\\in\\mathbb{R}^{n\\times n}$ mátrix 1-es, 2-es, maximum és Frobenius normáit számolja ki! Ha a bemenő paraméter nem megfelelő, akkor a program ezt hibaüzenet formájában jelezze!"
   ]
  },
  {
   "cell_type": "code",
   "execution_count": 17,
   "metadata": {
    "collapsed": false
   },
   "outputs": [
    {
     "name": "stdout",
     "output_type": "stream",
     "text": [
      "norma_1 =  14\r\n",
      "norma_2 =  11.24493834273843\r\n",
      "norma_inf =  11\r\n",
      "norma_fro =  11.83215956619923\r\n"
     ]
    }
   ],
   "source": [
    "A=[1 2 -3; -2 -1 0; 0 -11 0];\n",
    "[norma_1, norma_2, norma_inf, norma_fro] = norma(A)"
   ]
  },
  {
   "cell_type": "markdown",
   "metadata": {
    "collapsed": false
   },
   "source": [
    "### Fixponttétel"
   ]
  },
  {
   "cell_type": "markdown",
   "metadata": {
    "collapsed": false
   },
   "source": [
    "<br>\n",
    "<b>4.feladat.</b> Igazolható, hogy az \n",
    "\n",
    "$$f(x)=0.9\\cos(x),\\ x\\in[0,1]$$\n",
    "\n",
    "leképezés kontraktív, és hogy a Banach-féle fixponttétel feltételei teljesülnek. Írjunk szkriptet, mely megadja az \n",
    "\n",
    "$$||x^{(n)}-x^*||\\leq \\frac{q^n}{1-q}||x^{(1)}-x^{(0)}||<TOL$$\n",
    "\n",
    "formulában $n\\in\\mathbb{N}^+$ értékét, ha $q=0.9\\sin(1)$ és $TOL=10^{-12}$!"
   ]
  },
  {
   "cell_type": "code",
   "execution_count": 18,
   "metadata": {
    "collapsed": false
   },
   "outputs": [
    {
     "name": "stdout",
     "output_type": "stream",
     "text": [
      "n =  102.1030078701943\n",
      " 103\n"
     ]
    }
   ],
   "source": [
    "TOL=1e-12;\n",
    "x_0=1; q=0.9*sin(1);\n",
    "x_1=0.9*cos(x_0);\n",
    "n=log(((1-q)*TOL)/(abs(x_1-x_0)))/log(q)\n",
    "ceil(n);\n",
    "disp(ceil(n))"
   ]
  },
  {
   "cell_type": "markdown",
   "metadata": {
    "collapsed": false
   },
   "source": [
    "<br>\n",
    "<b>5.feladat.</b> Tekintsük az előző feladat általánosítását. Azaz írjunk olyan programot, mely megadja az \n",
    "\n",
    "$$||x^{(n)}-x^*||\\leq \\frac{q^n}{1-q}||x^{(1)}-x^{(0)}||<TOL$$\n",
    "\n",
    "formulában $n\\in\\mathbb{N}^+$ értékét, ha annak bemenő paraméterei:\n",
    "\n",
    "- $f$ konkraktív <br>\n",
    "- $q$ kontrakciós állandó <br>\n",
    "- $x^{(0)}$ kezdeti érték <br>\n",
    "- $TOL$ tolerancia szint"
   ]
  },
  {
   "cell_type": "code",
   "execution_count": 19,
   "metadata": {
    "collapsed": false
   },
   "outputs": [
    {
     "name": "stdout",
     "output_type": "stream",
     "text": [
      "iter =  103\n",
      "\n",
      "iter =  40\n",
      "\n",
      "iter =  70\n",
      "\n"
     ]
    }
   ],
   "source": [
    "% Elozo orai pelda\n",
    "[iter] = banachiter(@(x)(0.9*cos(x)),0.9*sin(1),1,1e-12)\n",
    "% Uj pelda\n",
    "[iter] = banachiter(@(x)((1/2)*(x+2/x)),1/2,1,1e-12)\n",
    "\n",
    "[iter] = banachiter(@(x)(x^2),0.8,0.01,1e-8)"
   ]
  },
  {
   "cell_type": "markdown",
   "metadata": {
    "collapsed": false
   },
   "source": [
    "<br>\n",
    "<b>6.feladat.</b> Írjunk programot, amely tetszőleges függvényre adott kezdetiérték mellett alkalmazza az egyszerű iterációt! A program leállási feltételét a maximális iterációs szám adja! A program használja  a <i>while</i> ciklust és az <i>eval</i> függvényt!"
   ]
  },
  {
   "cell_type": "code",
   "execution_count": 20,
   "metadata": {
    "collapsed": false
   },
   "outputs": [
    {
     "name": "stdout",
     "output_type": "stream",
     "text": [
      "eredmeny =    6.926187795620462e-01\n",
      "eredmeny =  1.414213562373095\n"
     ]
    }
   ],
   "source": [
    "[eredmeny] = egyszeruit('0.9*cos(x)',1,103)\n",
    "[eredmeny] = egyszeruit('(1/2)*(x+2/x)',1,103)\n"
   ]
  },
  {
   "cell_type": "markdown",
   "metadata": {
    "collapsed": false
   },
   "source": [
    "<br>\n",
    "<b>7.feladat.</b> Írjunk programot, amely kontraktív függvényre adott kezdetiérték mellett alkalmazza az egyszerű iterációt maximális iterációs szám és relatív hiba leállási feltételekkel! A program eredményként írja ki a felhasznált iterációk számát és az iterált vektor utolsó elemét!"
   ]
  },
  {
   "cell_type": "code",
   "execution_count": 21,
   "metadata": {
    "collapsed": false
   },
   "outputs": [
    {
     "name": "stdout",
     "output_type": "stream",
     "text": [
      "xnum =    6.926187795618727e-01\r\n",
      "iter =  51\r\n"
     ]
    }
   ],
   "source": [
    "[xnum iter] = fixpont(1,@(x)0.9*cos(x),1e-12,100)"
   ]
  },
  {
   "cell_type": "code",
   "execution_count": 0,
   "metadata": {
    "collapsed": false
   },
   "outputs": [
   ],
   "source": [
   ]
  }
 ],
 "metadata": {
  "kernelspec": {
   "display_name": "Octave",
   "language": "octave",
   "name": "octave",
   "resource_dir": "/ext/jupyter/kernels/octave"
  },
  "language_info": {
   "file_extension": ".m",
   "help_links": [
    {
     "text": "GNU Octave",
     "url": "https://www.gnu.org/software/octave/support.html"
    },
    {
     "text": "Octave Kernel",
     "url": "https://github.com/Calysto/octave_kernel"
    },
    {
     "text": "MetaKernel Magics",
     "url": "https://metakernel.readthedocs.io/en/latest/source/README.html"
    }
   ],
   "mimetype": "text/x-octave",
   "name": "octave",
   "version": "5.1.0"
  }
 },
 "nbformat": 4,
 "nbformat_minor": 4
}
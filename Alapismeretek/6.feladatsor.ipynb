{
 "cells": [
  {
   "cell_type": "markdown",
   "metadata": {
    "collapsed": false
   },
   "source": [
    "## <center>Lineáris egyenletrendszerek</center>"
   ]
  },
  {
   "cell_type": "markdown",
   "metadata": {
    "collapsed": false
   },
   "source": [
    "### Direkt megoldási módszerek"
   ]
  },
  {
   "cell_type": "markdown",
   "metadata": {
    "collapsed": false
   },
   "source": [
    "<br>\n",
    "<b>1.feladat.</b> Határozzuk meg az alábbi \n",
    "\n",
    "$$\n",
    "A=\\begin{pmatrix}\n",
    "-4 & 1 & -1 \\\\\n",
    "-1 & 4 & -1\\\\\n",
    "1 & 1 & 4\n",
    "\\end{pmatrix}\n",
    "$$\n",
    "\n",
    "\n",
    "\n",
    "mátrix LU-felbontását!"
   ]
  },
  {
   "cell_type": "code",
   "execution_count": 8,
   "metadata": {
    "collapsed": false
   },
   "outputs": [
    {
     "name": "stdout",
     "output_type": "stream",
     "text": [
      "kezi_felbontas_ellenorzes =\n",
      "\n",
      "  -4   1  -1\n",
      "  -1   4  -1\n",
      "   1   1   4\n",
      "\n",
      "A beepitett lu(A) paranccsal:\n",
      "l =\n",
      "\n",
      "   1.00000   0.00000   0.00000\n",
      "   0.25000   1.00000   0.00000\n",
      "  -0.25000   0.33333   1.00000\n",
      "\n",
      "u =\n",
      "\n",
      "  -4.00000   1.00000  -1.00000\n",
      "   0.00000   3.75000  -0.75000\n",
      "   0.00000   0.00000   4.00000\n",
      "\n",
      "eredmeny =\n",
      "\n",
      "  -4   1  -1\n",
      "  -1   4  -1\n",
      "   1   1   4\n",
      "\n"
     ]
    }
   ],
   "source": [
    "A = [-4 1 -1; -1 4 -1; 1 1 4];\n",
    "U = [-4 1 -1; 0 15/4 -3/4; 0 0 4];\n",
    "L = [1 0 0; 1/4 1 0; -1/4 1/3 1];\n",
    "kezi_felbontas_ellenorzes = L*U\n",
    "\n",
    "display('A beepitett lu(A) paranccsal:')\n",
    "[l, u] = lu (A)\n",
    "eredmeny = l*u"
   ]
  },
  {
   "cell_type": "markdown",
   "metadata": {
    "collapsed": false
   },
   "source": [
    "<br>\n",
    "<b>2.feladat.</b> Határozzuk meg az alábbi \n",
    "\n",
    "$$\n",
    "A=\\begin{pmatrix}\n",
    "5 & 7 & 3 \\\\\n",
    "7 & 11 & 2\\\\\n",
    "3 & 2 & 6\n",
    "\\end{pmatrix}\n",
    "$$\n",
    "\n",
    "\n",
    "\n",
    "mátrix Cholesky-felbontását!"
   ]
  },
  {
   "cell_type": "code",
   "execution_count": 9,
   "metadata": {
    "collapsed": false
   },
   "outputs": [
    {
     "name": "stdout",
     "output_type": "stream",
     "text": [
      "kezi_felbontas_ellenorzes =\n",
      "\n",
      "    5.0000    7.0000    3.0000\n",
      "    7.0000   11.0000    2.0000\n",
      "    3.0000    2.0000    6.0000\n",
      "\n",
      "A beepitett chol(A) paranccsal:\n",
      "cholesky =\n",
      "\n",
      "   2.23607   0.00000   0.00000\n",
      "   3.13050   1.09545   0.00000\n",
      "   1.34164  -2.00832   0.40825\n",
      "\n",
      "eredmeny =\n",
      "\n",
      "    5.0000    7.0000    3.0000\n",
      "    7.0000   11.0000    2.0000\n",
      "    3.0000    2.0000    6.0000\n",
      "\n"
     ]
    }
   ],
   "source": [
    "% Cholesky felbontashoz: szimmetria (A'=A) es A szig. poz. def (eig(A) pozitiv)\n",
    "\n",
    "A = [5 7 3; 7 11 2; 3 2 6];\n",
    "U = [5 7 3; 0 6/5 -11/5; 0 0 1/6];\n",
    "L = [1 0 0; 7/5 1 0; 3/5 -11/6 1];\n",
    "L_hullam = [sqrt(5) 0 0; sqrt(5)*7/5 sqrt(6/5) 0; sqrt(5)*3/5 -sqrt(6/5)*11/6 sqrt(1/6)];\n",
    "\n",
    "kezi_felbontas_ellenorzes = L_hullam*L_hullam'\n",
    "\n",
    "display('A beepitett chol(A) paranccsal:')\n",
    "\n",
    "\n",
    "cholesky = chol(A,'lower') % L_hullam\n",
    "eredmeny = cholesky*cholesky'"
   ]
  },
  {
   "cell_type": "code",
   "execution_count": 11,
   "metadata": {
    "collapsed": false
   },
   "outputs": [
    {
     "name": "stdout",
     "output_type": "stream",
     "text": [
      "   2.00   0.00\n",
      "   4.00   0.00\n",
      "   8.00   0.00\n",
      "   16.00    0.00\n",
      "   32.00    0.00\n",
      "   64.00    0.00\n",
      "   128.00     0.00\n",
      "   256.00     0.00\n",
      "   512.00     0.01\n",
      "   1024.00      0.08\n",
      "   2048.00      0.36\n",
      "   4096.00      2.10\n",
      "   8192.00     13.90\n"
     ]
    },
    {
     "data": {
      "image/svg+xml": "<svg height=\"420px\" viewBox=\"0 0 560 420\" width=\"560px\" xmlns=\"http://www.w3.org/2000/svg\" xmlns:xlink=\"http://www.w3.org/1999/xlink\">\n\n<title>Gnuplot</title>\n<desc>Produced by GNUPLOT 5.4 patchlevel 0 </desc>\n\n<g id=\"gnuplot_canvas\">\n\n<rect fill=\"#ffffff\" height=\"420\" width=\"560\" x=\"0\" y=\"0\"/>\n<defs>\n\n\t<circle id=\"gpDot\" r=\"0.5\" stroke=\"currentColor\" stroke-width=\"0.5\"/>\n\t<path d=\"M-1,0 h2 M0,-1 v2\" id=\"gpPt0\" stroke=\"currentColor\" stroke-width=\"0.357\"/>\n\t<path d=\"M-1,-1 L1,1 M1,-1 L-1,1\" id=\"gpPt1\" stroke=\"currentColor\" stroke-width=\"0.357\"/>\n\t<path d=\"M-1,0 L1,0 M0,-1 L0,1 M-1,-1 L1,1 M-1,1 L1,-1\" id=\"gpPt2\" stroke=\"currentColor\" stroke-width=\"0.357\"/>\n\t<rect height=\"2\" id=\"gpPt3\" stroke=\"currentColor\" stroke-width=\"0.357\" width=\"2\" x=\"-1\" y=\"-1\"/>\n\t<rect fill=\"currentColor\" height=\"2\" id=\"gpPt4\" stroke=\"currentColor\" stroke-width=\"0.357\" width=\"2\" x=\"-1\" y=\"-1\"/>\n\t<circle cx=\"0\" cy=\"0\" id=\"gpPt5\" r=\"1\" stroke=\"currentColor\" stroke-width=\"0.357\"/>\n\t<use fill=\"currentColor\" id=\"gpPt6\" stroke=\"none\" xlink:href=\"#gpPt5\"/>\n\t<path d=\"M0,-1.33 L-1.33,0.67 L1.33,0.67 z\" id=\"gpPt7\" stroke=\"currentColor\" stroke-width=\"0.357\"/>\n\t<use fill=\"currentColor\" id=\"gpPt8\" stroke=\"none\" xlink:href=\"#gpPt7\"/>\n\t<use id=\"gpPt9\" stroke=\"currentColor\" transform=\"rotate(180)\" xlink:href=\"#gpPt7\"/>\n\t<use fill=\"currentColor\" id=\"gpPt10\" stroke=\"none\" xlink:href=\"#gpPt9\"/>\n\t<use id=\"gpPt11\" stroke=\"currentColor\" transform=\"rotate(45)\" xlink:href=\"#gpPt3\"/>\n\t<use fill=\"currentColor\" id=\"gpPt12\" stroke=\"none\" xlink:href=\"#gpPt11\"/>\n\t<path d=\"M0,1.330 L1.265,0.411 L0.782,-1.067 L-0.782,-1.076 L-1.265,0.411 z\" id=\"gpPt13\" stroke=\"currentColor\" stroke-width=\"0.357\"/>\n\t<use fill=\"currentColor\" id=\"gpPt14\" stroke=\"none\" xlink:href=\"#gpPt13\"/>\n\t<filter filterUnits=\"objectBoundingBox\" height=\"1\" id=\"textbox\" width=\"1\" x=\"0\" y=\"0\">\n\t  <feFlood flood-color=\"#FFFFFF\" flood-opacity=\"1\" result=\"bgnd\"/>\n\t  <feComposite in=\"SourceGraphic\" in2=\"bgnd\" operator=\"atop\"/>\n\t</filter>\n\t<filter filterUnits=\"objectBoundingBox\" height=\"1\" id=\"greybox\" width=\"1\" x=\"0\" y=\"0\">\n\t  <feFlood flood-color=\"lightgrey\" flood-opacity=\"1\" result=\"grey\"/>\n\t  <feComposite in=\"SourceGraphic\" in2=\"grey\" operator=\"atop\"/>\n\t</filter>\n</defs>\n<g color=\"#FFFFFF\" fill=\"none\" stroke=\"currentColor\" stroke-linecap=\"butt\" stroke-linejoin=\"miter\" stroke-width=\"1.00\">\n</g>\n<g color=\"black\" fill=\"none\" stroke=\"currentColor\" stroke-linecap=\"butt\" stroke-linejoin=\"miter\" stroke-width=\"1.00\">\n\t<g shape-rendering=\"crispEdges\" stroke=\"none\">\n\t\t<polygon fill=\"rgb(255, 255, 255)\" points=\"39.8,384.2 544.2,384.2 544.2,49.6 39.8,49.6 \"/>\n\t</g>\n</g>\n<g color=\"black\" fill=\"none\" stroke=\"currentColor\" stroke-linecap=\"butt\" stroke-linejoin=\"miter\" stroke-width=\"1.00\">\n\t<path d=\"M39.8,384.2 L47.6,384.2 M544.3,384.2 L536.5,384.2  \" stroke=\"rgb(  0,   0,   0)\"/>\t<g fill=\"rgb(38,38,38)\" font-family=\"Arial\" font-size=\"10.00\" stroke=\"none\" text-anchor=\"end\" transform=\"translate(34.6,387.5)\">\n\t\t<text><tspan font-family=\"Arial\">10</tspan><tspan dy=\"-5.00px\" font-family=\"Arial\" font-size=\"8.0\">-5</tspan><tspan dy=\"5.00\" font-size=\"10.0\"/></text>\n\t</g>\n</g>\n<g color=\"black\" fill=\"none\" stroke=\"currentColor\" stroke-linecap=\"butt\" stroke-linejoin=\"miter\" stroke-width=\"1.00\">\n\t<path d=\"M39.8,336.4 L47.6,336.4 M544.3,336.4 L536.5,336.4  \" stroke=\"rgb(  0,   0,   0)\"/>\t<g fill=\"rgb(38,38,38)\" font-family=\"Arial\" font-size=\"10.00\" stroke=\"none\" text-anchor=\"end\" transform=\"translate(34.6,339.7)\">\n\t\t<text><tspan font-family=\"Arial\">10</tspan><tspan dy=\"-5.00px\" font-family=\"Arial\" font-size=\"8.0\">-4</tspan><tspan dy=\"5.00\" font-size=\"10.0\"/></text>\n\t</g>\n</g>\n<g color=\"black\" fill=\"none\" stroke=\"currentColor\" stroke-linecap=\"butt\" stroke-linejoin=\"miter\" stroke-width=\"1.00\">\n\t<path d=\"M39.8,288.6 L47.6,288.6 M544.3,288.6 L536.5,288.6  \" stroke=\"rgb(  0,   0,   0)\"/>\t<g fill=\"rgb(38,38,38)\" font-family=\"Arial\" font-size=\"10.00\" stroke=\"none\" text-anchor=\"end\" transform=\"translate(34.6,291.9)\">\n\t\t<text><tspan font-family=\"Arial\">10</tspan><tspan dy=\"-5.00px\" font-family=\"Arial\" font-size=\"8.0\">-3</tspan><tspan dy=\"5.00\" font-size=\"10.0\"/></text>\n\t</g>\n</g>\n<g color=\"black\" fill=\"none\" stroke=\"currentColor\" stroke-linecap=\"butt\" stroke-linejoin=\"miter\" stroke-width=\"1.00\">\n\t<path d=\"M39.8,240.8 L47.6,240.8 M544.3,240.8 L536.5,240.8  \" stroke=\"rgb(  0,   0,   0)\"/>\t<g fill=\"rgb(38,38,38)\" font-family=\"Arial\" font-size=\"10.00\" stroke=\"none\" text-anchor=\"end\" transform=\"translate(34.6,244.1)\">\n\t\t<text><tspan font-family=\"Arial\">10</tspan><tspan dy=\"-5.00px\" font-family=\"Arial\" font-size=\"8.0\">-2</tspan><tspan dy=\"5.00\" font-size=\"10.0\"/></text>\n\t</g>\n</g>\n<g color=\"black\" fill=\"none\" stroke=\"currentColor\" stroke-linecap=\"butt\" stroke-linejoin=\"miter\" stroke-width=\"1.00\">\n\t<path d=\"M39.8,192.9 L47.6,192.9 M544.3,192.9 L536.5,192.9  \" stroke=\"rgb(  0,   0,   0)\"/>\t<g fill=\"rgb(38,38,38)\" font-family=\"Arial\" font-size=\"10.00\" stroke=\"none\" text-anchor=\"end\" transform=\"translate(34.6,196.2)\">\n\t\t<text><tspan font-family=\"Arial\">10</tspan><tspan dy=\"-5.00px\" font-family=\"Arial\" font-size=\"8.0\">-1</tspan><tspan dy=\"5.00\" font-size=\"10.0\"/></text>\n\t</g>\n</g>\n<g color=\"black\" fill=\"none\" stroke=\"currentColor\" stroke-linecap=\"butt\" stroke-linejoin=\"miter\" stroke-width=\"1.00\">\n\t<path d=\"M39.8,145.1 L47.6,145.1 M544.3,145.1 L536.5,145.1  \" stroke=\"rgb(  0,   0,   0)\"/>\t<g fill=\"rgb(38,38,38)\" font-family=\"Arial\" font-size=\"10.00\" stroke=\"none\" text-anchor=\"end\" transform=\"translate(34.6,148.4)\">\n\t\t<text><tspan font-family=\"Arial\">10</tspan><tspan dy=\"-5.00px\" font-family=\"Arial\" font-size=\"8.0\">0</tspan><tspan dy=\"5.00\" font-size=\"10.0\"/></text>\n\t</g>\n</g>\n<g color=\"black\" fill=\"none\" stroke=\"currentColor\" stroke-linecap=\"butt\" stroke-linejoin=\"miter\" stroke-width=\"1.00\">\n\t<path d=\"M39.8,97.3 L47.6,97.3 M544.3,97.3 L536.5,97.3  \" stroke=\"rgb(  0,   0,   0)\"/>\t<g fill=\"rgb(38,38,38)\" font-family=\"Arial\" font-size=\"10.00\" stroke=\"none\" text-anchor=\"end\" transform=\"translate(34.6,100.6)\">\n\t\t<text><tspan font-family=\"Arial\">10</tspan><tspan dy=\"-5.00px\" font-family=\"Arial\" font-size=\"8.0\">1</tspan><tspan dy=\"5.00\" font-size=\"10.0\"/></text>\n\t</g>\n</g>\n<g color=\"black\" fill=\"none\" stroke=\"currentColor\" stroke-linecap=\"butt\" stroke-linejoin=\"miter\" stroke-width=\"1.00\">\n\t<path d=\"M39.8,49.5 L47.6,49.5 M544.3,49.5 L536.5,49.5  \" stroke=\"rgb(  0,   0,   0)\"/>\t<g fill=\"rgb(38,38,38)\" font-family=\"Arial\" font-size=\"10.00\" stroke=\"none\" text-anchor=\"end\" transform=\"translate(34.6,52.8)\">\n\t\t<text><tspan font-family=\"Arial\">10</tspan><tspan dy=\"-5.00px\" font-family=\"Arial\" font-size=\"8.0\">2</tspan><tspan dy=\"5.00\" font-size=\"10.0\"/></text>\n\t</g>\n</g>\n<g color=\"black\" fill=\"none\" stroke=\"currentColor\" stroke-linecap=\"butt\" stroke-linejoin=\"miter\" stroke-width=\"1.00\">\n\t<path d=\"M39.8,384.2 L39.8,376.4 M39.8,49.5 L39.8,57.3  \" stroke=\"rgb(  0,   0,   0)\"/>\t<g fill=\"rgb(38,38,38)\" font-family=\"Arial\" font-size=\"10.00\" stroke=\"none\" text-anchor=\"middle\" transform=\"translate(39.8,398.7)\">\n\t\t<text><tspan font-family=\"Arial\">10</tspan><tspan dy=\"-5.00px\" font-family=\"Arial\" font-size=\"8.0\">0</tspan><tspan dy=\"5.00\" font-size=\"10.0\"/></text>\n\t</g>\n</g>\n<g color=\"black\" fill=\"none\" stroke=\"currentColor\" stroke-linecap=\"butt\" stroke-linejoin=\"miter\" stroke-width=\"1.00\">\n\t<path d=\"M165.9,384.2 L165.9,376.4 M165.9,49.5 L165.9,57.3  \" stroke=\"rgb(  0,   0,   0)\"/>\t<g fill=\"rgb(38,38,38)\" font-family=\"Arial\" font-size=\"10.00\" stroke=\"none\" text-anchor=\"middle\" transform=\"translate(165.9,398.7)\">\n\t\t<text><tspan font-family=\"Arial\">10</tspan><tspan dy=\"-5.00px\" font-family=\"Arial\" font-size=\"8.0\">1</tspan><tspan dy=\"5.00\" font-size=\"10.0\"/></text>\n\t</g>\n</g>\n<g color=\"black\" fill=\"none\" stroke=\"currentColor\" stroke-linecap=\"butt\" stroke-linejoin=\"miter\" stroke-width=\"1.00\">\n\t<path d=\"M292.1,384.2 L292.1,376.4 M292.1,49.5 L292.1,57.3  \" stroke=\"rgb(  0,   0,   0)\"/>\t<g fill=\"rgb(38,38,38)\" font-family=\"Arial\" font-size=\"10.00\" stroke=\"none\" text-anchor=\"middle\" transform=\"translate(292.1,398.7)\">\n\t\t<text><tspan font-family=\"Arial\">10</tspan><tspan dy=\"-5.00px\" font-family=\"Arial\" font-size=\"8.0\">2</tspan><tspan dy=\"5.00\" font-size=\"10.0\"/></text>\n\t</g>\n</g>\n<g color=\"black\" fill=\"none\" stroke=\"currentColor\" stroke-linecap=\"butt\" stroke-linejoin=\"miter\" stroke-width=\"1.00\">\n\t<path d=\"M418.2,384.2 L418.2,376.4 M418.2,49.5 L418.2,57.3  \" stroke=\"rgb(  0,   0,   0)\"/>\t<g fill=\"rgb(38,38,38)\" font-family=\"Arial\" font-size=\"10.00\" stroke=\"none\" text-anchor=\"middle\" transform=\"translate(418.2,398.7)\">\n\t\t<text><tspan font-family=\"Arial\">10</tspan><tspan dy=\"-5.00px\" font-family=\"Arial\" font-size=\"8.0\">3</tspan><tspan dy=\"5.00\" font-size=\"10.0\"/></text>\n\t</g>\n</g>\n<g color=\"black\" fill=\"none\" stroke=\"currentColor\" stroke-linecap=\"butt\" stroke-linejoin=\"miter\" stroke-width=\"1.00\">\n\t<path d=\"M544.3,384.2 L544.3,376.4 M544.3,49.5 L544.3,57.3  \" stroke=\"rgb(  0,   0,   0)\"/>\t<g fill=\"rgb(38,38,38)\" font-family=\"Arial\" font-size=\"10.00\" stroke=\"none\" text-anchor=\"middle\" transform=\"translate(544.3,398.7)\">\n\t\t<text><tspan font-family=\"Arial\">10</tspan><tspan dy=\"-5.00px\" font-family=\"Arial\" font-size=\"8.0\">4</tspan><tspan dy=\"5.00\" font-size=\"10.0\"/></text>\n\t</g>\n</g>\n<g color=\"black\" fill=\"none\" stroke=\"currentColor\" stroke-linecap=\"butt\" stroke-linejoin=\"miter\" stroke-width=\"1.00\">\n</g>\n<g color=\"black\" fill=\"none\" stroke=\"currentColor\" stroke-linecap=\"butt\" stroke-linejoin=\"miter\" stroke-width=\"1.00\">\n\t<g fill=\"rgb(38,38,38)\" font-family=\"Arial\" font-size=\"11.00\" stroke=\"none\" text-anchor=\"middle\" transform=\"translate(13.0,216.9) rotate(-90)\">\n\t\t<text><tspan font-family=\"Arial\">ido (sec)</tspan></text>\n\t</g>\n</g>\n<g color=\"black\" fill=\"none\" stroke=\"currentColor\" stroke-linecap=\"butt\" stroke-linejoin=\"miter\" stroke-width=\"1.00\">\n\t<g fill=\"rgb(38,38,38)\" font-family=\"Arial\" font-size=\"11.00\" stroke=\"none\" text-anchor=\"middle\" transform=\"translate(292.0,415.8)\">\n\t\t<text><tspan font-family=\"Arial\">dimenzio</tspan></text>\n\t</g>\n</g>\n<g color=\"black\" fill=\"none\" stroke=\"currentColor\" stroke-linecap=\"butt\" stroke-linejoin=\"miter\" stroke-width=\"1.00\">\n</g>\n\t<g id=\"gnuplot_plot_1a\"><title>gnuplot_plot_1a</title>\n<g color=\"#FFFFFF\" fill=\"none\" stroke=\"currentColor\" stroke-linecap=\"butt\" stroke-linejoin=\"miter\" stroke-width=\"0.50\">\n</g>\n<g color=\"black\" fill=\"none\" stroke=\"currentColor\" stroke-linecap=\"butt\" stroke-linejoin=\"miter\" stroke-width=\"0.50\">\n\t<path d=\"M77.8,327.7 L115.7,354.9 L153.7,355.9 L191.7,354.0 L229.6,342.7 L267.6,318.2 L305.6,288.8 L343.5,257.7   L381.5,233.2 L419.5,197.6 L457.4,166.5 L495.4,129.7 L533.4,90.5  \" stroke=\"rgb(  0, 114, 189)\"/>\t<use color=\"rgb(  0, 114, 189)\" transform=\"translate(77.8,327.7) scale(1.87)\" xlink:href=\"#gpPt6\"/>\n\t<use color=\"rgb(  0, 114, 189)\" transform=\"translate(115.7,354.9) scale(1.87)\" xlink:href=\"#gpPt6\"/>\n\t<use color=\"rgb(  0, 114, 189)\" transform=\"translate(153.7,355.9) scale(1.87)\" xlink:href=\"#gpPt6\"/>\n\t<use color=\"rgb(  0, 114, 189)\" transform=\"translate(191.7,354.0) scale(1.87)\" xlink:href=\"#gpPt6\"/>\n\t<use color=\"rgb(  0, 114, 189)\" transform=\"translate(229.6,342.7) scale(1.87)\" xlink:href=\"#gpPt6\"/>\n\t<use color=\"rgb(  0, 114, 189)\" transform=\"translate(267.6,318.2) scale(1.87)\" xlink:href=\"#gpPt6\"/>\n\t<use color=\"rgb(  0, 114, 189)\" transform=\"translate(305.6,288.8) scale(1.87)\" xlink:href=\"#gpPt6\"/>\n\t<use color=\"rgb(  0, 114, 189)\" transform=\"translate(343.5,257.7) scale(1.87)\" xlink:href=\"#gpPt6\"/>\n\t<use color=\"rgb(  0, 114, 189)\" transform=\"translate(381.5,233.2) scale(1.87)\" xlink:href=\"#gpPt6\"/>\n\t<use color=\"rgb(  0, 114, 189)\" transform=\"translate(419.5,197.6) scale(1.87)\" xlink:href=\"#gpPt6\"/>\n\t<use color=\"rgb(  0, 114, 189)\" transform=\"translate(457.4,166.5) scale(1.87)\" xlink:href=\"#gpPt6\"/>\n\t<use color=\"rgb(  0, 114, 189)\" transform=\"translate(495.4,129.7) scale(1.87)\" xlink:href=\"#gpPt6\"/>\n\t<use color=\"rgb(  0, 114, 189)\" transform=\"translate(533.4,90.5) scale(1.87)\" xlink:href=\"#gpPt6\"/>\n</g>\n\t</g>\n\t<g id=\"gnuplot_plot_2a\"><title>gnuplot_plot_2a</title>\n<g color=\"black\" fill=\"none\" stroke=\"currentColor\" stroke-linecap=\"butt\" stroke-linejoin=\"miter\" stroke-width=\"0.50\">\n\t<path d=\"M250.0,384.2 L267.6,364.2 L305.6,321.0 L343.5,277.8 L381.5,234.6 L419.5,191.5 L457.4,148.3 L495.4,105.1   L533.4,61.9  \" stroke=\"rgb(255,   0,   0)\" stroke-dasharray=\"5.0,5.0\"/></g>\n\t</g>\n<g color=\"#FFFFFF\" fill=\"none\" stroke=\"rgb(255,   0,   0)\" stroke-linecap=\"butt\" stroke-linejoin=\"miter\" stroke-width=\"2.00\">\n</g>\n<g color=\"black\" fill=\"none\" stroke=\"currentColor\" stroke-linecap=\"butt\" stroke-linejoin=\"miter\" stroke-width=\"2.00\">\n</g>\n<g color=\"black\" fill=\"none\" stroke=\"black\" stroke-linecap=\"butt\" stroke-linejoin=\"miter\" stroke-width=\"0.50\">\n\t<path d=\"M39.9,384.1 L544.4,384.1 M39.9,49.4 L544.4,49.4 M39.9,384.1 L39.9,49.4 M544.4,384.1 L544.4,49.4    \" stroke=\"rgb( 38,  38,  38)\"/></g>\n<g color=\"black\" fill=\"none\" stroke=\"rgb( 38,  38,  38)\" stroke-linecap=\"butt\" stroke-linejoin=\"miter\" stroke-width=\"1.00\">\n</g>\n<g color=\"black\" fill=\"none\" stroke=\"currentColor\" stroke-linecap=\"butt\" stroke-linejoin=\"miter\" stroke-width=\"1.00\">\n\t<g fill=\"rgb(0,0,0)\" font-family=\":Bold\" font-size=\"18.00\" stroke=\"none\" text-anchor=\"middle\" transform=\"translate(292.0,22.8)\">\n\t\t<text><tspan font-family=\"\" font-weight=\"bold\">MATLAB Ab megoldojanak sebessege</tspan></text>\n\t</g>\n</g>\n<g color=\"black\" fill=\"none\" stroke=\"currentColor\" stroke-linecap=\"butt\" stroke-linejoin=\"miter\" stroke-width=\"1.00\">\n</g>\n</g>\n</svg>",
      "text/plain": [
       "<IPython.core.display.SVG object>"
      ]
     },
     "execution_count": 11,
     "metadata": {
     },
     "output_type": "execute_result"
    }
   ],
   "source": [
    "format bank\n",
    "for j=1:13\n",
    "    N=2^j;\n",
    "    A=randn(N);\n",
    "    %e=ones(N,1);\n",
    "    %A=(N+1)^2*spdiags([-e 2*e e], [-1 0 1], N, N);\n",
    "    tic\n",
    "    A\\ones(N,1);\n",
    "    t=toc;\n",
    "    disp([N,t]);\n",
    "    dim(j)=N;\n",
    "    time(j)=t;\n",
    "end\n",
    "plot(dim,time,'-')\n",
    "loglog(dim,time,'.-')\n",
    "hold on \n",
    "loglog(dim,1e-10*dim.^3, 'r--')\n",
    "ylim([1e-5 1e2])\n",
    "xlabel('dimenzio')\n",
    "ylabel('ido (sec)')\n",
    "title('MATLAB A\\b megoldojanak sebessege','fontsize',18)\n",
    "% gtext('N^3','fontsize',18,'color','k') % Akinek van MATLAB-ja"
   ]
  },
  {
   "cell_type": "markdown",
   "metadata": {
    "collapsed": false
   },
   "source": [
    "### Klasszikus iterációk (Jacobi, GS, SOR)\n",
    "\n",
    "<br>\n",
    "Tekintsük az $Ax=b$ egyenlet megoldására az alábbi egylépéses stacionárius lineáris iteratív alakot\n",
    "\n",
    "$$x^{(k+1)}=Mx^{(k)}+v,\\ \\quad k=0,1,\\ldots$$<br>\n",
    "\n",
    "<u>Tétel:</u> A lineáris iteráció konzisztens $Ax=b$-vel $\\Longleftrightarrow$ $\\rho(M)<1$<br>\n",
    "\n",
    "Tekintsük a szokásos $A=L+D+U$ felbontást (szig. alsó, diag, szig. felső). Ekkor a három klasszikus iteráció:\n",
    "\n",
    "+ Jacobi\n",
    "$$x^{(k+1)}=D^{-1}\\big(-[L+U]x^{(k)}+b\\big)$$\n",
    "+ Gauss-Seidel (GS)\n",
    "$$x^{(k+1)}=(L+D)^{-1}\\big(-Ux^{(k)}+b\\big)$$\n",
    "+ SOR (Successive over-relaxation)\n",
    "$$x^{(k+1)}=(D+\\omega L)^{-1}\\big(-[\\omega U+(\\omega -1)D]x^{(k)}+\\omega b\\big)$$\n",
    "<br>\n",
    "\n",
    "<u>Tétel:</u> Ha $A$ M-mátrix, akkor a Jacobi, GS iterációk és ezek relaxált változatai $\\omega\\in (0,1)$ mellett tetszőleges kezdeti vektor esetén konvergálnak az egyenletrendszer megoldásához<br>\n",
    "\n",
    "<u>Tétel:</u> Ha $A$ SZDD, akkor a Jacobi és GS iterációk tetszőleges kezdeti vektor esetén konvergálnak az egyenletrendszer megoldásához<br>\n",
    "\n",
    "<u>Tétel:</u> Ha $A$ SZPD, akkor a GS iteráció és SOR módszer $\\omega\\in (0,2)$ iterációk tetszőleges kezdeti vektor esetén konvergálnak az egyenletrendszer megoldásához <br>\n",
    "\n",
    "<br>\n",
    "<b>3.feladat.</b> Írjunk olyan programokat, amely az $Ax=b$ egyenletet megoldja a Jacobi-, Guass-Seidel- és SOR-iterációk segítségével! Az első leállási feltételnek a numerikus megoldó vektor maximumnormában mért relatív hibáját adjuk meg adott tolerancia mellett. Második leállási feltételnek pedig egy maximális iteráció számot. Kísérletezzünk, hogy melyik módszer hogyan viselkedik különböző tolerancia mellett futási időket tekintve!"
   ]
  },
  {
   "cell_type": "code",
   "execution_count": 18,
   "metadata": {
    "collapsed": false
   },
   "outputs": [
    {
     "name": "stdout",
     "output_type": "stream",
     "text": [
      "it =  854\n",
      "x =\n",
      "\n",
      "   1.572179338934452e+01\n",
      "   3.044610580638946e+01\n",
      "   4.417543527979852e+01\n",
      "   5.691223079210345e+01\n",
      "   6.865887908761052e+01\n",
      "   7.941767059116479e+01\n",
      "   8.919079449943388e+01\n",
      "   9.798029989780547e+01\n",
      "   1.057880993118642e+02\n",
      "   1.126159264284441e+02\n",
      "   1.184653479781918e+02\n",
      "   1.233377195896279e+02\n",
      "   1.272342055725390e+02\n",
      "   1.301557345013672e+02\n",
      "   1.321030261836875e+02\n",
      "   1.330765485789011e+02\n",
      "   1.330765509765426e+02\n",
      "   1.321030238077745e+02\n",
      "   1.301557368340798e+02\n",
      "   1.272342033042251e+02\n",
      "   1.233377217730993e+02\n",
      "   1.184653458994570e+02\n",
      "   1.126159283837548e+02\n",
      "   1.057880974978356e+02\n",
      "   9.798030155428128e+01\n",
      "   8.919079301567106e+01\n",
      "   7.941767188893209e+01\n",
      "   6.865887798773630e+01\n",
      "   5.691223168425361e+01\n",
      "   4.417543460356171e+01\n",
      "   3.044610626067487e+01\n",
      "   1.572179316118375e+01\n",
      "\n"
     ]
    }
   ],
   "source": [
    "format long\n",
    "N=32;\n",
    "e=ones(N,1);\n",
    "%A=%(N+1)^2*spdiags([-e 2*e -e],[-1 0 1],N,N);\n",
    "A=spdiags([-e 2*e -e],[-1 0 1],N,N);\n",
    "b=e;\n",
    "x0=zeros(length(b),1);\n",
    "x0(end)=0.01;\n",
    "[x,it] = jacobi(A,b,x0,10^(-4),10000);\n",
    "it\n",
    "x\n",
    "\n",
    "% y = A\\b %% MATLAB backslah ellenorzes"
   ]
  },
  {
   "cell_type": "code",
   "execution_count": 19,
   "metadata": {
    "collapsed": false
   },
   "outputs": [
    {
     "name": "stdout",
     "output_type": "stream",
     "text": [
      "Jacobi_iteracio =\n",
      "\n",
      "    116    396   1564   8978\n",
      "\n",
      "Jacobi_ido =\n",
      "\n",
      " Columns 1 through 3:\n",
      "\n",
      "   3.388595581054688e-02   2.840960025787354e-01   3.675768136978149e+00\n",
      "\n",
      " Column 4:\n",
      "\n",
      "   1.106427938938141e+02\n",
      "\n"
     ]
    }
   ],
   "source": [
    "N=2^8;\n",
    "e=ones(N,1);\n",
    "A=(N+1)^2*spdiags([-e 2*e -e],[-1 0 1],N,N);\n",
    "b=e;\n",
    "x0=zeros(length(b),1);\n",
    "x0(end)=0.01;\n",
    "for j=1:4\n",
    "    tic\n",
    "    [x,it] = jacobi(A,b,x0,10^(-j),10000);\n",
    "    Jacobi_iteracio(j)=it;\n",
    "    xmatlab=A\\b;\n",
    "    Jacobi_differencia(j)=norm(x-xmatlab,inf);\n",
    "    Jacobi_ido(j)=toc;\n",
    "end\n",
    "Jacobi_iteracio\n",
    "Jacobi_ido"
   ]
  },
  {
   "cell_type": "code",
   "execution_count": 20,
   "metadata": {
    "collapsed": false
   },
   "outputs": [
    {
     "name": "stdout",
     "output_type": "stream",
     "text": [
      "GS_iteracio =\n",
      "\n",
      "     10    102    996   6329\n",
      "\n",
      "GS_ido =\n",
      "\n",
      " Columns 1 through 3:\n",
      "\n",
      "   1.410961151123047e-03   6.089115142822266e-02   1.594121932983398e+00\n",
      "\n",
      " Column 4:\n",
      "\n",
      "   5.844128704071045e+01\n",
      "\n"
     ]
    }
   ],
   "source": [
    "N=2^8;\n",
    "e=ones(N,1);\n",
    "A=(N+1)^2*spdiags([-e 2*e -e],[-1 0 1],N,N);\n",
    "b=e;\n",
    "x0=zeros(length(b),1);\n",
    "x0(end)=0.01;\n",
    "for j=1:4\n",
    "    tic\n",
    "    [x,it] = gaussseidel(A,b,x0,10^(-j),10000);\n",
    "    GS_iteracio(j)=it;\n",
    "    xmatlab=A\\b;\n",
    "    GS_differencia(j)=norm(x-xmatlab,inf);\n",
    "    GS_ido(j)=toc;\n",
    "end\n",
    "GS_iteracio\n",
    "GS_ido"
   ]
  },
  {
   "cell_type": "code",
   "execution_count": 21,
   "metadata": {
    "collapsed": false
   },
   "outputs": [
    {
     "name": "stdout",
     "output_type": "stream",
     "text": [
      "SOR_iteracio =\n",
      "\n",
      "    56   200   259   338\n",
      "\n",
      "SOR_ido =\n",
      "\n",
      " Columns 1 through 3:\n",
      "\n",
      "   2.341103553771973e-02   7.944297790527344e-02   1.773390769958496e-01\n",
      "\n",
      " Column 4:\n",
      "\n",
      "   2.630808353424072e-01\n",
      "\n"
     ]
    }
   ],
   "source": [
    "N=2^8;\n",
    "e=ones(N,1);\n",
    "A=(N+1)^2*spdiags([-e 2*e -e],[-1 0 1],N,N);\n",
    "b=e;\n",
    "x0=zeros(length(b),1);\n",
    "x0(end)=0.01;\n",
    "omega=2/(1+sin(pi/(N+1)));\n",
    "for j=1:4\n",
    "    tic\n",
    "    [x,it] = SOR(A,b,x0,omega,10^(-j),10000);\n",
    "    SOR_iteracio(j)=it;\n",
    "    xmatlab=A\\b;\n",
    "    SOR_differencia(j)=norm(x-xmatlab,inf);\n",
    "    SOR_ido(j)=toc;\n",
    "end\n",
    "SOR_iteracio\n",
    "SOR_ido\n",
    "\n"
   ]
  },
  {
   "cell_type": "code",
   "execution_count": 0,
   "metadata": {
    "collapsed": false
   },
   "outputs": [
   ],
   "source": [
   ]
  }
 ],
 "metadata": {
  "kernelspec": {
   "display_name": "Octave",
   "language": "octave",
   "name": "octave",
   "resource_dir": "/ext/jupyter/kernels/octave"
  },
  "language_info": {
   "file_extension": ".m",
   "help_links": [
    {
     "text": "GNU Octave",
     "url": "https://www.gnu.org/software/octave/support.html"
    },
    {
     "text": "Octave Kernel",
     "url": "https://github.com/Calysto/octave_kernel"
    },
    {
     "text": "MetaKernel Magics",
     "url": "https://metakernel.readthedocs.io/en/latest/source/README.html"
    }
   ],
   "mimetype": "text/x-octave",
   "name": "octave",
   "version": "5.1.0"
  }
 },
 "nbformat": 4,
 "nbformat_minor": 4
}
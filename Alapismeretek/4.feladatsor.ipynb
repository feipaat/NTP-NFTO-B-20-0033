{
 "cells": [
  {
   "cell_type": "markdown",
   "metadata": {
    "collapsed": false
   },
   "source": [
    "## <center>Numerikus integrálás és deriválás</center>"
   ]
  },
  {
   "cell_type": "markdown",
   "metadata": {
    "collapsed": false
   },
   "source": [
    "### Numerikus integrálás\n",
    "\n",
    "Összetett kvadratúraformulák  <br><br>\n",
    "- Érintő\n",
    "$$I_{É, m}(f)=h\\sum_{i=0}^{m-1}f\\bigg(x_i+\\frac{h}{2}\\bigg)$$\n",
    "    - Hibaformula\n",
    "$$|I(f)-I_{É, m}(f)|\\leq\\frac{(b-a)^3}{24m^2}M_2$$\n",
    "<br>\n",
    "- Trapéz\n",
    "$$I_{T, m}(f)= \\frac{h}{2}\\bigg(f(a)+2\\sum_{i=1}^{m-1}f(x_i)+f(b)\\bigg)$$\n",
    "    - Hibaformula\n",
    "$$|I(f)-I_{T, m}(f)|\\leq\\frac{(b-a)^3}{12m^2}M_2$$\n",
    "<br>\n",
    "- Simpson\n",
    "$$I_{S, m}(f)= \\frac{h}{6}\\bigg(f(a)+4\\sum_{i=0}^{m-1}f\\left(x_i+\\frac{h}{2}\\right)+2\\sum_{i=1}^{m-1}f(x_i)+f(b)\\bigg)$$\n",
    "     - Hibaformula\n",
    "$$|I(f)-I_{S, m}(f)|\\leq\\frac{(b-a)^5}{2880m^4}M_4$$\n",
    "<br>\n",
    "<br>\n",
    "\n",
    "Továbbá a fenti összetett Simpson-formulát $m$ páros mivolta esetén és $m/2$ részintervallumra alkalmazni, azaz ekkor\n",
    "\n",
    "$$I_{S, m}= \\frac{h}{3}\\bigg(f(a)+2\\sum_{\\substack{i\\ \\text{ps} \\\\ i\\neq 0,m}}f(x_i)+4\\sum_{i\\ \\text{plan}}f(x_i)+f(b)\\bigg)$$"
   ]
  },
  {
   "cell_type": "markdown",
   "metadata": {
    "collapsed": false
   },
   "source": [
    "<b>1.feladat.</b> Tekintsük az \n",
    "\n",
    "$$I(f)=\\int_{4}^{5.2}\\ln(x)\\text{d}x$$\n",
    "\n",
    "integrált. Közelítsük $I(f)$ értékét az érintőformulával, trapézforumlával és a Simpson-formulával! Becsüljük meg az egyes közelítések hibáját is!"
   ]
  },
  {
   "cell_type": "code",
   "execution_count": 1,
   "metadata": {
    "collapsed": false
   },
   "outputs": [
    {
     "name": "stdout",
     "output_type": "stream",
     "text": [
      "erintoformula =  1.831267564194059\r\n"
     ]
    }
   ],
   "source": [
    "% Erintoformula\n",
    "format long\n",
    "a = 4; \n",
    "b = 5.2; \n",
    "h = (b-a);\n",
    "x = [a:h/2:b];\n",
    "fv = log(x);\n",
    "y = eval('fv');\n",
    "erintoformula = h*y(2)"
   ]
  },
  {
   "cell_type": "code",
   "execution_count": 2,
   "metadata": {
    "collapsed": false
   },
   "outputs": [
    {
     "name": "stdout",
     "output_type": "stream",
     "text": [
      "trapezformula =  1.820971792024364\r\n"
     ]
    }
   ],
   "source": [
    "%% Trapezformula\n",
    "trapezformula = h*(y(1)+y(3))/2"
   ]
  },
  {
   "cell_type": "code",
   "execution_count": 3,
   "metadata": {
    "collapsed": false
   },
   "outputs": [
    {
     "name": "stdout",
     "output_type": "stream",
     "text": [
      "simpsonformula =  1.827835640137494\r\n"
     ]
    }
   ],
   "source": [
    "%% Simpson-formula\n",
    "simpsonformula = h*(y(1)+4*y(2)+y(3))/6"
   ]
  },
  {
   "cell_type": "code",
   "execution_count": 4,
   "metadata": {
    "collapsed": false
   },
   "outputs": [
    {
     "name": "stdout",
     "output_type": "stream",
     "text": [
      "erinto_hiba =    4.500000000000002e-03\n",
      "trapez_hiba =    9.000000000000005e-03\n",
      "simpson_hiba =    2.025000000000001e-05\n"
     ]
    }
   ],
   "source": [
    "m=1;\n",
    "%% Erinto hibaja\n",
    "M_2 = 1/16;\n",
    "erinto_hiba = ((b-a)^3/(24*m^2))*M_2\n",
    "\n",
    "%% Trapez hibaja\n",
    "M_2 = 1/16;\n",
    "trapez_hiba = ((b-a)^3/(12*m^2))*M_2\n",
    "\n",
    "%% Simpson hibaja\n",
    "M_4 = 3/128;\n",
    "simpson_hiba = ((b-a)^5/(2880*m^4))*M_4"
   ]
  },
  {
   "cell_type": "markdown",
   "metadata": {
    "collapsed": false
   },
   "source": [
    "<br>\n",
    "<b>2.feladat.</b> Írjunk programot <i>kvadratura.m</i> néven, mely kiszámítja az $f(x)$ függvény közelítõ integrálját $m$ részre történő részintervallumra bontással a fenti összetett formulákkal.\n",
    "\n",
    "<br> Alkalmazzuk a programunkat az előző feladatra!"
   ]
  },
  {
   "cell_type": "code",
   "execution_count": 5,
   "metadata": {
    "collapsed": false
   },
   "outputs": [
    {
     "name": "stdout",
     "output_type": "stream",
     "text": [
      "\n",
      "A feladat megoldasa 1 reszintervallumon osszetett erintoformulaval tortent.\n",
      "ans =  1.831267564194059\n",
      "\n",
      "A feladat megoldasa 1 reszintervallumon osszetett trapezformulaval tortent.\n",
      "ans =  1.820971792024364\n",
      "\n",
      "A feladat megoldasa 1 reszintervallumon osszetett Simpson-formulaval tortent.\n",
      "ans =  1.827835640137494\n"
     ]
    }
   ],
   "source": [
    "kvadratura(4,5.2,1,'log(x)','erinto')\n",
    "kvadratura(4,5.2,1,'log(x)','trapez') % Trapez eseten m = m\n",
    "kvadratura(4,5.2,2,'log(x)','Simpson') % Simspon eseten itt 2*m-et kell megadni"
   ]
  },
  {
   "cell_type": "code",
   "execution_count": 6,
   "metadata": {
    "collapsed": false
   },
   "outputs": [
    {
     "name": "stdout",
     "output_type": "stream",
     "text": [
      "\n",
      "A feladat megoldasa 6 reszintervallumon osszetett erintoformulaval tortent.\n",
      "ans =  1.827943529349786\n",
      "\n",
      "A feladat megoldasa 6 reszintervallumon osszetett trapezformulaval tortent.\n",
      "ans =  1.827655138682034\n",
      "\n",
      "A feladat megoldasa 6 reszintervallumon osszetett Simpson-formulaval tortent.\n",
      "ans =  1.827847399127202\n"
     ]
    }
   ],
   "source": [
    "kvadratura(4,5.2,6,'log(x)','erinto')\n",
    "kvadratura(4,5.2,6,'log(x)','trapez') % Trapez eseten m = m\n",
    "kvadratura(4,5.2,12,'log(x)','Simpson') % Simspon eseten itt 2*m-et kell megadni"
   ]
  },
  {
   "cell_type": "markdown",
   "metadata": {
    "collapsed": false
   },
   "source": [
    "<br>\n",
    "<b>3.feladat.</b> Hány részintervallumra kell osztani a $[0,\\ \\pi/4]$ intervallumot, ha az \n",
    "\n",
    "$$I(f)=\\int_{0}^{\\pi/4}\\ln(\\cos(x))\\text{d}x$$\n",
    "\n",
    "integrál értékét összetett trapézformulával szeretnénk közelíteni úgy, hogy a hiba (felhasználó által előírt tolerancia TOL) értéke kisebb legyen, mint $10^{-4}$?"
   ]
  },
  {
   "cell_type": "code",
   "execution_count": 7,
   "metadata": {
    "collapsed": false
   },
   "outputs": [
    {
     "name": "stdout",
     "output_type": "stream",
     "text": [
      "m =  28.41575481810764\n",
      "m =  29\n"
     ]
    }
   ],
   "source": [
    "a = 0; b = pi/4; \n",
    "TOL = 1e-4;\n",
    "M_2 = 2;\n",
    "% Hiba ((b-a)^3/(12*m^2))*M_2 < TOL\n",
    "\n",
    "m = sqrt((((b-a)^3/(12))*M_2)/TOL)\n",
    "m = ceil(m)"
   ]
  },
  {
   "cell_type": "markdown",
   "metadata": {
    "collapsed": false
   },
   "source": [
    "<br>\n",
    "<b>4.feladat.</b> Tanulmányozzuk a beépített <i>trapz</i>, <i>quad</i> és <i>quadk</i> parancsokat!"
   ]
  },
  {
   "cell_type": "code",
   "execution_count": 8,
   "metadata": {
    "collapsed": false
   },
   "outputs": [
    {
     "name": "stdout",
     "output_type": "stream",
     "text": [
      "'trapz' is a function from the file /Applications/Octave-5.1.0.app/Contents/Resources/usr/Cellar/octave-octave-app@5.1.0/5.1.0/share/octave/5.1.0/m/general/trapz.m\n",
      "\n",
      " -- Q = trapz (Y)\n",
      " -- Q = trapz (X, Y)\n",
      " -- Q = trapz (..., DIM)\n",
      "\n",
      "     Numerically evaluate the integral of points Y using the trapezoidal\n",
      "     method.\n",
      "\n",
      "     'trapz (Y)' computes the integral of Y along the first\n",
      "     non-singleton dimension.  When the argument X is omitted an equally\n",
      "     spaced X vector with unit spacing (1) is assumed.  'trapz (X, Y)'\n",
      "     evaluates the integral with respect to the spacing in X and the\n",
      "     values in Y.  This is useful if the points in Y have been sampled\n",
      "     unevenly.\n",
      "\n",
      "     If the optional DIM argument is given, operate along this\n",
      "     dimension.\n",
      "\n",
      "     Application Note: If X is not specified then unit spacing will be\n",
      "     used.  To scale the integral to the correct value you must multiply\n",
      "     by the actual spacing value (deltaX). As an example, the integral\n",
      "     of x^3 over the range [0, 1] is x^4/4 or 0.25.  The following code\n",
      "     uses 'trapz' to calculate the integral in three different ways.\n",
      "\n",
      "          x = 0:0.1:1;\n",
      "          y = x.^3;\n",
      "          ## No scaling\n",
      "          q = trapz (y)\n",
      "            => q = 2.5250\n",
      "          ## Approximation to integral by scaling\n",
      "          q * 0.1\n",
      "            => 0.25250\n",
      "          ## Same result by specifying X\n",
      "          trapz (x, y)\n",
      "            => 0.25250\n",
      "\n",
      "     See also: cumtrapz.\n",
      "\n",
      "Additional help for built-in functions and operators is\n",
      "available in the online version of the manual.  Use the command\n",
      "'doc <topic>' to search the manual index.\n",
      "\n",
      "Help and information about Octave is also available on the WWW\n",
      "at https://www.octave.org and via the help@octave.org\n",
      "mailing list.\n",
      "beepitett_trapez =  1.827799334015910\n",
      "quadratura =  1.827847408574823\n",
      "adaptiv_gauss_konrod =  1.827847408574822\n"
     ]
    }
   ],
   "source": [
    "%% Megfelelo help parancsok tanulmanyozasa: helo trapz, help quad, ...\n",
    "help trapz\n",
    "% Beepitett Trapez\n",
    "x = 4:0.1:5.2;\n",
    "beepitett_trapez = trapz (x,log(x))\n",
    "% Kvadratura formula\n",
    "quadratura = quad (@(x) log(x), 4, 5.2)\n",
    "% Adaptiv Gauss-Konrod kvadratura\n",
    "adaptiv_gauss_konrod = quadgk (@(x) log(x), 4, 5.2)"
   ]
  },
  {
   "cell_type": "markdown",
   "metadata": {
    "collapsed": false
   },
   "source": [
    "### Numerikus deriválás"
   ]
  },
  {
   "cell_type": "markdown",
   "metadata": {
    "collapsed": false
   },
   "source": [
    "<br>\n",
    "<b>5.feladat.</b> Írjunk olyan programot, mely az alábbi \n",
    "\n",
    "+ $\\displaystyle \\frac{f(x_0+h)-f(x_0)}{h}$<br>\n",
    "+ $\\displaystyle \\frac{f(x_0+h)-f(x_0-h)}{2h}$<br>\n",
    "+ $\\displaystyle \\frac{f(x_0+h)-2f(x_0)+f(x_0-h)}{h^2}$<br>\n",
    "\n",
    "véges differenciahányadokosat kiszámolja adott függvényre, adott pontban és adott lépésközzel. Eredményeinket vessük össze a megfelelő derivált értékekkel!"
   ]
  },
  {
   "cell_type": "code",
   "execution_count": 9,
   "metadata": {
    "collapsed": false
   },
   "outputs": [
    {
     "name": "stdout",
     "output_type": "stream",
     "text": [
      "elso =    9.000719629555248e-01\r\n",
      "elsoketto =    9.195266597143170e-01\r\n",
      "masodik =   -3.890939351758437e-01\r\n"
     ]
    }
   ],
   "source": [
    "[elso, elsoketto, masodik] = derivalt(@(x)(sin(x)),0.4,0.1)\n"
   ]
  },
  {
   "cell_type": "code",
   "execution_count": 10,
   "metadata": {
    "collapsed": false
   },
   "outputs": [
    {
     "name": "stdout",
     "output_type": "stream",
     "text": [
      "ans =\r\n",
      "\r\n",
      "   2  -1   0   0   0   0\r\n",
      "  -1   2  -1   0   0   0\r\n",
      "   0  -1   2  -1   0   0\r\n",
      "   0   0  -1   2  -1   0\r\n",
      "   0   0   0  -1   2  -1\r\n",
      "   0   0   0   0  -1   2\r\n",
      "\r\n"
     ]
    },
    {
     "data": {
      "image/svg+xml": "<svg height=\"420px\" viewBox=\"0 0 560 420\" width=\"560px\" xmlns=\"http://www.w3.org/2000/svg\" xmlns:xlink=\"http://www.w3.org/1999/xlink\">\n\n<title>Gnuplot</title>\n<desc>Produced by GNUPLOT 5.4 patchlevel 0 </desc>\n\n<g id=\"gnuplot_canvas\">\n\n<rect fill=\"#ffffff\" height=\"420\" width=\"560\" x=\"0\" y=\"0\"/>\n<defs>\n\n\t<circle id=\"gpDot\" r=\"0.5\" stroke=\"currentColor\" stroke-width=\"0.5\"/>\n\t<path d=\"M-1,0 h2 M0,-1 v2\" id=\"gpPt0\" stroke=\"currentColor\" stroke-width=\"0.357\"/>\n\t<path d=\"M-1,-1 L1,1 M1,-1 L-1,1\" id=\"gpPt1\" stroke=\"currentColor\" stroke-width=\"0.357\"/>\n\t<path d=\"M-1,0 L1,0 M0,-1 L0,1 M-1,-1 L1,1 M-1,1 L1,-1\" id=\"gpPt2\" stroke=\"currentColor\" stroke-width=\"0.357\"/>\n\t<rect height=\"2\" id=\"gpPt3\" stroke=\"currentColor\" stroke-width=\"0.357\" width=\"2\" x=\"-1\" y=\"-1\"/>\n\t<rect fill=\"currentColor\" height=\"2\" id=\"gpPt4\" stroke=\"currentColor\" stroke-width=\"0.357\" width=\"2\" x=\"-1\" y=\"-1\"/>\n\t<circle cx=\"0\" cy=\"0\" id=\"gpPt5\" r=\"1\" stroke=\"currentColor\" stroke-width=\"0.357\"/>\n\t<use fill=\"currentColor\" id=\"gpPt6\" stroke=\"none\" xlink:href=\"#gpPt5\"/>\n\t<path d=\"M0,-1.33 L-1.33,0.67 L1.33,0.67 z\" id=\"gpPt7\" stroke=\"currentColor\" stroke-width=\"0.357\"/>\n\t<use fill=\"currentColor\" id=\"gpPt8\" stroke=\"none\" xlink:href=\"#gpPt7\"/>\n\t<use id=\"gpPt9\" stroke=\"currentColor\" transform=\"rotate(180)\" xlink:href=\"#gpPt7\"/>\n\t<use fill=\"currentColor\" id=\"gpPt10\" stroke=\"none\" xlink:href=\"#gpPt9\"/>\n\t<use id=\"gpPt11\" stroke=\"currentColor\" transform=\"rotate(45)\" xlink:href=\"#gpPt3\"/>\n\t<use fill=\"currentColor\" id=\"gpPt12\" stroke=\"none\" xlink:href=\"#gpPt11\"/>\n\t<path d=\"M0,1.330 L1.265,0.411 L0.782,-1.067 L-0.782,-1.076 L-1.265,0.411 z\" id=\"gpPt13\" stroke=\"currentColor\" stroke-width=\"0.357\"/>\n\t<use fill=\"currentColor\" id=\"gpPt14\" stroke=\"none\" xlink:href=\"#gpPt13\"/>\n\t<filter filterUnits=\"objectBoundingBox\" height=\"1\" id=\"textbox\" width=\"1\" x=\"0\" y=\"0\">\n\t  <feFlood flood-color=\"#FFFFFF\" flood-opacity=\"1\" result=\"bgnd\"/>\n\t  <feComposite in=\"SourceGraphic\" in2=\"bgnd\" operator=\"atop\"/>\n\t</filter>\n\t<filter filterUnits=\"objectBoundingBox\" height=\"1\" id=\"greybox\" width=\"1\" x=\"0\" y=\"0\">\n\t  <feFlood flood-color=\"lightgrey\" flood-opacity=\"1\" result=\"grey\"/>\n\t  <feComposite in=\"SourceGraphic\" in2=\"grey\" operator=\"atop\"/>\n\t</filter>\n</defs>\n<g color=\"#FFFFFF\" fill=\"none\" stroke=\"currentColor\" stroke-linecap=\"butt\" stroke-linejoin=\"miter\" stroke-width=\"1.00\">\n</g>\n<g color=\"black\" fill=\"none\" stroke=\"currentColor\" stroke-linecap=\"butt\" stroke-linejoin=\"miter\" stroke-width=\"1.00\">\n\t<g shape-rendering=\"crispEdges\" stroke=\"none\">\n\t\t<polygon fill=\"rgb(255, 255, 255)\" points=\"18.2,397.6 544.2,397.6 544.2,11.4 18.2,11.4 \"/>\n\t</g>\n</g>\n<g color=\"black\" fill=\"none\" stroke=\"currentColor\" stroke-linecap=\"butt\" stroke-linejoin=\"miter\" stroke-width=\"1.00\">\n\t<path d=\"M18.2,11.3 L26.0,11.3 M544.3,11.3 L536.5,11.3  \" stroke=\"rgb(  0,   0,   0)\"/>\t<g fill=\"rgb(38,38,38)\" font-family=\"Arial\" font-size=\"10.00\" stroke=\"none\" text-anchor=\"end\" transform=\"translate(13.0,14.6)\">\n\t\t<text><tspan font-family=\"Arial\">0</tspan></text>\n\t</g>\n</g>\n<g color=\"black\" fill=\"none\" stroke=\"currentColor\" stroke-linecap=\"butt\" stroke-linejoin=\"miter\" stroke-width=\"1.00\">\n\t<path d=\"M18.2,66.5 L26.0,66.5 M544.3,66.5 L536.5,66.5  \" stroke=\"rgb(  0,   0,   0)\"/>\t<g fill=\"rgb(38,38,38)\" font-family=\"Arial\" font-size=\"10.00\" stroke=\"none\" text-anchor=\"end\" transform=\"translate(13.0,69.8)\">\n\t\t<text><tspan font-family=\"Arial\">1</tspan></text>\n\t</g>\n</g>\n<g color=\"black\" fill=\"none\" stroke=\"currentColor\" stroke-linecap=\"butt\" stroke-linejoin=\"miter\" stroke-width=\"1.00\">\n\t<path d=\"M18.2,121.7 L26.0,121.7 M544.3,121.7 L536.5,121.7  \" stroke=\"rgb(  0,   0,   0)\"/>\t<g fill=\"rgb(38,38,38)\" font-family=\"Arial\" font-size=\"10.00\" stroke=\"none\" text-anchor=\"end\" transform=\"translate(13.0,125.0)\">\n\t\t<text><tspan font-family=\"Arial\">2</tspan></text>\n\t</g>\n</g>\n<g color=\"black\" fill=\"none\" stroke=\"currentColor\" stroke-linecap=\"butt\" stroke-linejoin=\"miter\" stroke-width=\"1.00\">\n\t<path d=\"M18.2,176.9 L26.0,176.9 M544.3,176.9 L536.5,176.9  \" stroke=\"rgb(  0,   0,   0)\"/>\t<g fill=\"rgb(38,38,38)\" font-family=\"Arial\" font-size=\"10.00\" stroke=\"none\" text-anchor=\"end\" transform=\"translate(13.0,180.2)\">\n\t\t<text><tspan font-family=\"Arial\">3</tspan></text>\n\t</g>\n</g>\n<g color=\"black\" fill=\"none\" stroke=\"currentColor\" stroke-linecap=\"butt\" stroke-linejoin=\"miter\" stroke-width=\"1.00\">\n\t<path d=\"M18.2,232.0 L26.0,232.0 M544.3,232.0 L536.5,232.0  \" stroke=\"rgb(  0,   0,   0)\"/>\t<g fill=\"rgb(38,38,38)\" font-family=\"Arial\" font-size=\"10.00\" stroke=\"none\" text-anchor=\"end\" transform=\"translate(13.0,235.3)\">\n\t\t<text><tspan font-family=\"Arial\">4</tspan></text>\n\t</g>\n</g>\n<g color=\"black\" fill=\"none\" stroke=\"currentColor\" stroke-linecap=\"butt\" stroke-linejoin=\"miter\" stroke-width=\"1.00\">\n\t<path d=\"M18.2,287.2 L26.0,287.2 M544.3,287.2 L536.5,287.2  \" stroke=\"rgb(  0,   0,   0)\"/>\t<g fill=\"rgb(38,38,38)\" font-family=\"Arial\" font-size=\"10.00\" stroke=\"none\" text-anchor=\"end\" transform=\"translate(13.0,290.5)\">\n\t\t<text><tspan font-family=\"Arial\">5</tspan></text>\n\t</g>\n</g>\n<g color=\"black\" fill=\"none\" stroke=\"currentColor\" stroke-linecap=\"butt\" stroke-linejoin=\"miter\" stroke-width=\"1.00\">\n\t<path d=\"M18.2,342.4 L26.0,342.4 M544.3,342.4 L536.5,342.4  \" stroke=\"rgb(  0,   0,   0)\"/>\t<g fill=\"rgb(38,38,38)\" font-family=\"Arial\" font-size=\"10.00\" stroke=\"none\" text-anchor=\"end\" transform=\"translate(13.0,345.7)\">\n\t\t<text><tspan font-family=\"Arial\">6</tspan></text>\n\t</g>\n</g>\n<g color=\"black\" fill=\"none\" stroke=\"currentColor\" stroke-linecap=\"butt\" stroke-linejoin=\"miter\" stroke-width=\"1.00\">\n\t<path d=\"M18.2,397.6 L26.0,397.6 M544.3,397.6 L536.5,397.6  \" stroke=\"rgb(  0,   0,   0)\"/>\t<g fill=\"rgb(38,38,38)\" font-family=\"Arial\" font-size=\"10.00\" stroke=\"none\" text-anchor=\"end\" transform=\"translate(13.0,400.9)\">\n\t\t<text><tspan font-family=\"Arial\">7</tspan></text>\n\t</g>\n</g>\n<g color=\"black\" fill=\"none\" stroke=\"currentColor\" stroke-linecap=\"butt\" stroke-linejoin=\"miter\" stroke-width=\"1.00\">\n\t<path d=\"M18.2,397.6 L18.2,389.8 M18.2,11.3 L18.2,19.1  \" stroke=\"rgb(  0,   0,   0)\"/>\t<g fill=\"rgb(38,38,38)\" font-family=\"Arial\" font-size=\"10.00\" stroke=\"none\" text-anchor=\"middle\" transform=\"translate(18.2,412.1)\">\n\t\t<text><tspan font-family=\"Arial\">0</tspan></text>\n\t</g>\n</g>\n<g color=\"black\" fill=\"none\" stroke=\"currentColor\" stroke-linecap=\"butt\" stroke-linejoin=\"miter\" stroke-width=\"1.00\">\n\t<path d=\"M93.4,397.6 L93.4,389.8 M93.4,11.3 L93.4,19.1  \" stroke=\"rgb(  0,   0,   0)\"/>\t<g fill=\"rgb(38,38,38)\" font-family=\"Arial\" font-size=\"10.00\" stroke=\"none\" text-anchor=\"middle\" transform=\"translate(93.4,412.1)\">\n\t\t<text><tspan font-family=\"Arial\">1</tspan></text>\n\t</g>\n</g>\n<g color=\"black\" fill=\"none\" stroke=\"currentColor\" stroke-linecap=\"butt\" stroke-linejoin=\"miter\" stroke-width=\"1.00\">\n\t<path d=\"M168.5,397.6 L168.5,389.8 M168.5,11.3 L168.5,19.1  \" stroke=\"rgb(  0,   0,   0)\"/>\t<g fill=\"rgb(38,38,38)\" font-family=\"Arial\" font-size=\"10.00\" stroke=\"none\" text-anchor=\"middle\" transform=\"translate(168.5,412.1)\">\n\t\t<text><tspan font-family=\"Arial\">2</tspan></text>\n\t</g>\n</g>\n<g color=\"black\" fill=\"none\" stroke=\"currentColor\" stroke-linecap=\"butt\" stroke-linejoin=\"miter\" stroke-width=\"1.00\">\n\t<path d=\"M243.7,397.6 L243.7,389.8 M243.7,11.3 L243.7,19.1  \" stroke=\"rgb(  0,   0,   0)\"/>\t<g fill=\"rgb(38,38,38)\" font-family=\"Arial\" font-size=\"10.00\" stroke=\"none\" text-anchor=\"middle\" transform=\"translate(243.7,412.1)\">\n\t\t<text><tspan font-family=\"Arial\">3</tspan></text>\n\t</g>\n</g>\n<g color=\"black\" fill=\"none\" stroke=\"currentColor\" stroke-linecap=\"butt\" stroke-linejoin=\"miter\" stroke-width=\"1.00\">\n\t<path d=\"M318.8,397.6 L318.8,389.8 M318.8,11.3 L318.8,19.1  \" stroke=\"rgb(  0,   0,   0)\"/>\t<g fill=\"rgb(38,38,38)\" font-family=\"Arial\" font-size=\"10.00\" stroke=\"none\" text-anchor=\"middle\" transform=\"translate(318.8,412.1)\">\n\t\t<text><tspan font-family=\"Arial\">4</tspan></text>\n\t</g>\n</g>\n<g color=\"black\" fill=\"none\" stroke=\"currentColor\" stroke-linecap=\"butt\" stroke-linejoin=\"miter\" stroke-width=\"1.00\">\n\t<path d=\"M394.0,397.6 L394.0,389.8 M394.0,11.3 L394.0,19.1  \" stroke=\"rgb(  0,   0,   0)\"/>\t<g fill=\"rgb(38,38,38)\" font-family=\"Arial\" font-size=\"10.00\" stroke=\"none\" text-anchor=\"middle\" transform=\"translate(394.0,412.1)\">\n\t\t<text><tspan font-family=\"Arial\">5</tspan></text>\n\t</g>\n</g>\n<g color=\"black\" fill=\"none\" stroke=\"currentColor\" stroke-linecap=\"butt\" stroke-linejoin=\"miter\" stroke-width=\"1.00\">\n\t<path d=\"M469.1,397.6 L469.1,389.8 M469.1,11.3 L469.1,19.1  \" stroke=\"rgb(  0,   0,   0)\"/>\t<g fill=\"rgb(38,38,38)\" font-family=\"Arial\" font-size=\"10.00\" stroke=\"none\" text-anchor=\"middle\" transform=\"translate(469.1,412.1)\">\n\t\t<text><tspan font-family=\"Arial\">6</tspan></text>\n\t</g>\n</g>\n<g color=\"black\" fill=\"none\" stroke=\"currentColor\" stroke-linecap=\"butt\" stroke-linejoin=\"miter\" stroke-width=\"1.00\">\n\t<path d=\"M544.3,397.6 L544.3,389.8 M544.3,11.3 L544.3,19.1  \" stroke=\"rgb(  0,   0,   0)\"/>\t<g fill=\"rgb(38,38,38)\" font-family=\"Arial\" font-size=\"10.00\" stroke=\"none\" text-anchor=\"middle\" transform=\"translate(544.3,412.1)\">\n\t\t<text><tspan font-family=\"Arial\">7</tspan></text>\n\t</g>\n</g>\n<g color=\"black\" fill=\"none\" stroke=\"currentColor\" stroke-linecap=\"butt\" stroke-linejoin=\"miter\" stroke-width=\"1.00\">\n</g>\n<g color=\"black\" fill=\"none\" stroke=\"currentColor\" stroke-linecap=\"butt\" stroke-linejoin=\"miter\" stroke-width=\"1.00\">\n</g>\n\t<g id=\"gnuplot_plot_1a\"><title>gnuplot_plot_1a</title>\n<g color=\"#FFFFFF\" fill=\"none\" stroke=\"rgb(  0,   0,   0)\" stroke-linecap=\"butt\" stroke-linejoin=\"miter\" stroke-width=\"0.50\">\n</g>\n<g color=\"black\" fill=\"none\" stroke=\"currentColor\" stroke-linecap=\"butt\" stroke-linejoin=\"miter\" stroke-width=\"0.50\">\n\t<use color=\"rgb(  0, 114, 189)\" transform=\"translate(93.4,66.5) scale(5.60)\" xlink:href=\"#gpPt2\"/>\n\t<use color=\"rgb(  0, 114, 189)\" transform=\"translate(93.4,121.7) scale(5.60)\" xlink:href=\"#gpPt2\"/>\n\t<use color=\"rgb(  0, 114, 189)\" transform=\"translate(168.5,66.5) scale(5.60)\" xlink:href=\"#gpPt2\"/>\n\t<use color=\"rgb(  0, 114, 189)\" transform=\"translate(168.5,121.7) scale(5.60)\" xlink:href=\"#gpPt2\"/>\n\t<use color=\"rgb(  0, 114, 189)\" transform=\"translate(168.5,176.9) scale(5.60)\" xlink:href=\"#gpPt2\"/>\n\t<use color=\"rgb(  0, 114, 189)\" transform=\"translate(243.7,121.7) scale(5.60)\" xlink:href=\"#gpPt2\"/>\n\t<use color=\"rgb(  0, 114, 189)\" transform=\"translate(243.7,176.9) scale(5.60)\" xlink:href=\"#gpPt2\"/>\n\t<use color=\"rgb(  0, 114, 189)\" transform=\"translate(243.7,232.0) scale(5.60)\" xlink:href=\"#gpPt2\"/>\n\t<use color=\"rgb(  0, 114, 189)\" transform=\"translate(318.8,176.9) scale(5.60)\" xlink:href=\"#gpPt2\"/>\n\t<use color=\"rgb(  0, 114, 189)\" transform=\"translate(318.8,232.0) scale(5.60)\" xlink:href=\"#gpPt2\"/>\n\t<use color=\"rgb(  0, 114, 189)\" transform=\"translate(318.8,287.2) scale(5.60)\" xlink:href=\"#gpPt2\"/>\n\t<use color=\"rgb(  0, 114, 189)\" transform=\"translate(394.0,232.0) scale(5.60)\" xlink:href=\"#gpPt2\"/>\n\t<use color=\"rgb(  0, 114, 189)\" transform=\"translate(394.0,287.2) scale(5.60)\" xlink:href=\"#gpPt2\"/>\n\t<use color=\"rgb(  0, 114, 189)\" transform=\"translate(394.0,342.4) scale(5.60)\" xlink:href=\"#gpPt2\"/>\n\t<use color=\"rgb(  0, 114, 189)\" transform=\"translate(469.1,287.2) scale(5.60)\" xlink:href=\"#gpPt2\"/>\n\t<use color=\"rgb(  0, 114, 189)\" transform=\"translate(469.1,342.4) scale(5.60)\" xlink:href=\"#gpPt2\"/>\n</g>\n\t</g>\n<g color=\"#FFFFFF\" fill=\"none\" stroke=\"rgb(  0, 114, 189)\" stroke-linecap=\"butt\" stroke-linejoin=\"miter\" stroke-width=\"2.00\">\n</g>\n<g color=\"black\" fill=\"none\" stroke=\"currentColor\" stroke-linecap=\"butt\" stroke-linejoin=\"miter\" stroke-width=\"2.00\">\n</g>\n<g color=\"black\" fill=\"none\" stroke=\"black\" stroke-linecap=\"butt\" stroke-linejoin=\"miter\" stroke-width=\"0.50\">\n\t<path d=\"M18.3,397.5 L544.4,397.5 M18.3,11.2 L544.4,11.2 M18.3,397.5 L18.3,11.2 M544.4,397.5 L544.4,11.2    \" stroke=\"rgb( 38,  38,  38)\"/></g>\n<g color=\"black\" fill=\"none\" stroke=\"rgb( 38,  38,  38)\" stroke-linecap=\"butt\" stroke-linejoin=\"miter\" stroke-width=\"1.00\">\n</g>\n<g color=\"black\" fill=\"none\" stroke=\"currentColor\" stroke-linecap=\"butt\" stroke-linejoin=\"miter\" stroke-width=\"1.00\">\n</g>\n</g>\n</svg>",
      "text/plain": [
       "<IPython.core.display.SVG object>"
      ]
     },
     "execution_count": 10,
     "metadata": {
     },
     "output_type": "execute_result"
    }
   ],
   "source": [
    "% spdiags parancs hasznalata\n",
    "n=6;\n",
    "e=ones(n,1);\n",
    "A=spdiags([-e 2*e -e], [-1, 0, 1], n,n);\n",
    "full(A)\n",
    "spy(A);"
   ]
  },
  {
   "cell_type": "code",
   "execution_count": 0,
   "metadata": {
    "collapsed": false
   },
   "outputs": [
   ],
   "source": [
   ]
  }
 ],
 "metadata": {
  "kernelspec": {
   "display_name": "Octave",
   "language": "octave",
   "name": "octave",
   "resource_dir": "/ext/jupyter/kernels/octave"
  },
  "language_info": {
   "file_extension": ".m",
   "help_links": [
    {
     "text": "GNU Octave",
     "url": "https://www.gnu.org/software/octave/support.html"
    },
    {
     "text": "Octave Kernel",
     "url": "https://github.com/Calysto/octave_kernel"
    },
    {
     "text": "MetaKernel Magics",
     "url": "https://metakernel.readthedocs.io/en/latest/source/README.html"
    }
   ],
   "mimetype": "text/x-octave",
   "name": "octave",
   "version": "5.1.0"
  }
 },
 "nbformat": 4,
 "nbformat_minor": 4
}
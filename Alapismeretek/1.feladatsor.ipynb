{
 "cells": [
  {
   "cell_type": "markdown",
   "metadata": {
    "collapsed": false
   },
   "source": [
    "## <center>Gépi matematika</center>"
   ]
  },
  {
   "cell_type": "markdown",
   "metadata": {
    "collapsed": false
   },
   "source": [
    "##### Gépi számok halmaza\n",
    "\n",
    "$$M\\equiv M(a,t,k^-,k^+):=\\{\\pm a^k\\sum_{i=1}^t x_ia^{-i} : k^-\\leq k\\leq k^+, 0\\leq x_i\\leq a-1, i=1,\\ldots,t\\}\\subset\\mathbb{R}$$\n",
    "ahol\n",
    "+ $a\\in\\mathbb{N}^+$ a *számrendszer alapja*\n",
    "+ $t\\in\\mathbb{N}$ a *mantissza hossza*\n",
    "+ $k\\in\\mathbb{Z}$ az *exponens* vagy *karakterisztika*\n",
    "+ Megállapodás: $x_1\\neq 0$ (normalizált lebegőpontos szám)\n",
    "<br>\n",
    "\n",
    "Nevezetes gépi értékek:\n",
    "+ $x'$ az $x$ *rákövetkezője*\n",
    "+ $\\epsilon_0$ a 0 rákövetkezője\n",
    "+ $0.5\\cdot\\epsilon_1=0.5\\cdot a^{1-t}$ a *gépi epszilon*\n",
    "+ $M_{\\infty}$ a *legnagyobb gépi szám*\n",
    "\n"
   ]
  },
  {
   "cell_type": "markdown",
   "metadata": {
    "collapsed": false
   },
   "source": [
    "<br>\n",
    "<b>1.feladat.</b> Tekintsük az $M(2,4,-3,2)$ gép számok halmazából az alábbi pozitív normalizált lebegőpontos számokat:\n",
    "\n",
    "\n",
    "\n",
    "\n",
    "| | $k=0$ | $k=1$ | $k=2$ | $k=-1$ | $k=-2$ | $k=-3$ | \n",
    "| --- | --- | --- | --- | --- | --- | --- | \n",
    "| $0.1000$ | $\\frac{8}{16}$ | $\\frac{8}{8}$ | $\\frac{8}{4}$ | $\\frac{8}{32}$ | $\\frac{8}{64}$ | $\\frac{8}{128}$ |\n",
    "| $0.1001$ | $\\frac{9}{16}$ | $\\frac{9}{8}$ | $\\frac{9}{4}$ | $\\frac{9}{32}$ | $\\frac{9}{64}$ | $\\frac{9}{128}$ |\n",
    "| $0.1010$ | $\\frac{10}{16}$ | $\\frac{10}{8}$ | $\\frac{10}{4}$ | $\\frac{10}{32}$ | $\\frac{10}{64}$ | $\\frac{10}{128}$|\n",
    "| $0.1011$ | $\\frac{11}{16}$ | $\\frac{11}{8}$ | $\\frac{11}{4}$ | $\\frac{11}{32}$ | $\\frac{11}{64}$ | $\\frac{11}{128}$|\n",
    "| $0.1100$ | $\\frac{12}{16}$ | $\\frac{12}{8}$ | $\\frac{12}{4}$ | $\\frac{12}{32}$ | $\\frac{12}{64}$ | $\\frac{12}{128}$ |\n",
    "| $0.1101$ | $\\frac{13}{16}$ | $\\frac{13}{8}$ | $\\frac{13}{4}$ | $\\frac{13}{32}$ | $\\frac{13}{64}$ | $\\frac{13}{128}$ |\n",
    "| $0.1110$ | $\\frac{14}{16}$ | $\\frac{14}{8}$ | $\\frac{14}{4}$ | $\\frac{14}{32}$ | $\\frac{14}{64}$ | $\\frac{14}{128}$ |\n",
    "| $0.1111$ | $\\frac{15}{16}$ | $\\frac{15}{8}$ | $\\frac{15}{4}$ | $\\frac{15}{32}$ | $\\frac{15}{64}$ | $\\frac{15}{128}$ \n",
    "\n",
    "Írjunk szkriptet, mely ábrázolja a számegyenesen ezeket a számokat!"
   ]
  },
  {
   "cell_type": "code",
   "execution_count": 3,
   "metadata": {
    "collapsed": false
   },
   "outputs": [
    {
     "data": {
      "image/svg+xml": "<svg height=\"420px\" viewBox=\"0 0 560 420\" width=\"560px\" xmlns=\"http://www.w3.org/2000/svg\" xmlns:xlink=\"http://www.w3.org/1999/xlink\">\n\n<title>Gnuplot</title>\n<desc>Produced by GNUPLOT 5.4 patchlevel 0 </desc>\n\n<g id=\"gnuplot_canvas\">\n\n<rect fill=\"#ffffff\" height=\"420\" width=\"560\" x=\"0\" y=\"0\"/>\n<defs>\n\n\t<circle id=\"gpDot\" r=\"0.5\" stroke=\"currentColor\" stroke-width=\"0.5\"/>\n\t<path d=\"M-1,0 h2 M0,-1 v2\" id=\"gpPt0\" stroke=\"currentColor\" stroke-width=\"0.357\"/>\n\t<path d=\"M-1,-1 L1,1 M1,-1 L-1,1\" id=\"gpPt1\" stroke=\"currentColor\" stroke-width=\"0.357\"/>\n\t<path d=\"M-1,0 L1,0 M0,-1 L0,1 M-1,-1 L1,1 M-1,1 L1,-1\" id=\"gpPt2\" stroke=\"currentColor\" stroke-width=\"0.357\"/>\n\t<rect height=\"2\" id=\"gpPt3\" stroke=\"currentColor\" stroke-width=\"0.357\" width=\"2\" x=\"-1\" y=\"-1\"/>\n\t<rect fill=\"currentColor\" height=\"2\" id=\"gpPt4\" stroke=\"currentColor\" stroke-width=\"0.357\" width=\"2\" x=\"-1\" y=\"-1\"/>\n\t<circle cx=\"0\" cy=\"0\" id=\"gpPt5\" r=\"1\" stroke=\"currentColor\" stroke-width=\"0.357\"/>\n\t<use fill=\"currentColor\" id=\"gpPt6\" stroke=\"none\" xlink:href=\"#gpPt5\"/>\n\t<path d=\"M0,-1.33 L-1.33,0.67 L1.33,0.67 z\" id=\"gpPt7\" stroke=\"currentColor\" stroke-width=\"0.357\"/>\n\t<use fill=\"currentColor\" id=\"gpPt8\" stroke=\"none\" xlink:href=\"#gpPt7\"/>\n\t<use id=\"gpPt9\" stroke=\"currentColor\" transform=\"rotate(180)\" xlink:href=\"#gpPt7\"/>\n\t<use fill=\"currentColor\" id=\"gpPt10\" stroke=\"none\" xlink:href=\"#gpPt9\"/>\n\t<use id=\"gpPt11\" stroke=\"currentColor\" transform=\"rotate(45)\" xlink:href=\"#gpPt3\"/>\n\t<use fill=\"currentColor\" id=\"gpPt12\" stroke=\"none\" xlink:href=\"#gpPt11\"/>\n\t<path d=\"M0,1.330 L1.265,0.411 L0.782,-1.067 L-0.782,-1.076 L-1.265,0.411 z\" id=\"gpPt13\" stroke=\"currentColor\" stroke-width=\"0.357\"/>\n\t<use fill=\"currentColor\" id=\"gpPt14\" stroke=\"none\" xlink:href=\"#gpPt13\"/>\n\t<filter filterUnits=\"objectBoundingBox\" height=\"1\" id=\"textbox\" width=\"1\" x=\"0\" y=\"0\">\n\t  <feFlood flood-color=\"#FFFFFF\" flood-opacity=\"1\" result=\"bgnd\"/>\n\t  <feComposite in=\"SourceGraphic\" in2=\"bgnd\" operator=\"atop\"/>\n\t</filter>\n\t<filter filterUnits=\"objectBoundingBox\" height=\"1\" id=\"greybox\" width=\"1\" x=\"0\" y=\"0\">\n\t  <feFlood flood-color=\"lightgrey\" flood-opacity=\"1\" result=\"grey\"/>\n\t  <feComposite in=\"SourceGraphic\" in2=\"grey\" operator=\"atop\"/>\n\t</filter>\n</defs>\n<g color=\"#FFFFFF\" fill=\"none\" stroke=\"currentColor\" stroke-linecap=\"butt\" stroke-linejoin=\"miter\" stroke-width=\"1.00\">\n</g>\n<g color=\"black\" fill=\"none\" stroke=\"currentColor\" stroke-linecap=\"butt\" stroke-linejoin=\"miter\" stroke-width=\"1.00\">\n\t<g shape-rendering=\"crispEdges\" stroke=\"none\">\n\t\t<polygon fill=\"rgb(255, 255, 255)\" points=\"49.4,397.6 544.2,397.6 544.2,39.1 49.4,39.1 \"/>\n\t</g>\n</g>\n<g color=\"black\" fill=\"none\" stroke=\"currentColor\" stroke-linecap=\"butt\" stroke-linejoin=\"miter\" stroke-width=\"1.00\">\n\t<path d=\"M49.4,397.6 L57.2,397.6 M544.3,397.6 L536.5,397.6  \" stroke=\"rgb(  0,   0,   0)\"/>\t<g fill=\"rgb(38,38,38)\" font-family=\"Arial\" font-size=\"10.00\" stroke=\"none\" text-anchor=\"end\" transform=\"translate(44.2,400.9)\">\n\t\t<text><tspan font-family=\"Arial\">-0.001</tspan></text>\n\t</g>\n</g>\n<g color=\"black\" fill=\"none\" stroke=\"currentColor\" stroke-linecap=\"butt\" stroke-linejoin=\"miter\" stroke-width=\"1.00\">\n\t<path d=\"M49.4,307.9 L57.2,307.9 M544.3,307.9 L536.5,307.9  \" stroke=\"rgb(  0,   0,   0)\"/>\t<g fill=\"rgb(38,38,38)\" font-family=\"Arial\" font-size=\"10.00\" stroke=\"none\" text-anchor=\"end\" transform=\"translate(44.2,311.2)\">\n\t\t<text><tspan font-family=\"Arial\">-0.0005</tspan></text>\n\t</g>\n</g>\n<g color=\"black\" fill=\"none\" stroke=\"currentColor\" stroke-linecap=\"butt\" stroke-linejoin=\"miter\" stroke-width=\"1.00\">\n\t<path d=\"M49.4,218.3 L57.2,218.3 M544.3,218.3 L536.5,218.3  \" stroke=\"rgb(  0,   0,   0)\"/>\t<g fill=\"rgb(38,38,38)\" font-family=\"Arial\" font-size=\"10.00\" stroke=\"none\" text-anchor=\"end\" transform=\"translate(44.2,221.6)\">\n\t\t<text><tspan font-family=\"Arial\">0</tspan></text>\n\t</g>\n</g>\n<g color=\"black\" fill=\"none\" stroke=\"currentColor\" stroke-linecap=\"butt\" stroke-linejoin=\"miter\" stroke-width=\"1.00\">\n\t<path d=\"M49.4,128.6 L57.2,128.6 M544.3,128.6 L536.5,128.6  \" stroke=\"rgb(  0,   0,   0)\"/>\t<g fill=\"rgb(38,38,38)\" font-family=\"Arial\" font-size=\"10.00\" stroke=\"none\" text-anchor=\"end\" transform=\"translate(44.2,131.9)\">\n\t\t<text><tspan font-family=\"Arial\">0.0005</tspan></text>\n\t</g>\n</g>\n<g color=\"black\" fill=\"none\" stroke=\"currentColor\" stroke-linecap=\"butt\" stroke-linejoin=\"miter\" stroke-width=\"1.00\">\n\t<path d=\"M49.4,39.0 L57.2,39.0 M544.3,39.0 L536.5,39.0  \" stroke=\"rgb(  0,   0,   0)\"/>\t<g fill=\"rgb(38,38,38)\" font-family=\"Arial\" font-size=\"10.00\" stroke=\"none\" text-anchor=\"end\" transform=\"translate(44.2,42.3)\">\n\t\t<text><tspan font-family=\"Arial\">0.001</tspan></text>\n\t</g>\n</g>\n<g color=\"black\" fill=\"none\" stroke=\"currentColor\" stroke-linecap=\"butt\" stroke-linejoin=\"miter\" stroke-width=\"1.00\">\n\t<path d=\"M49.4,397.6 L49.4,389.8 M49.4,39.0 L49.4,46.8  \" stroke=\"rgb(  0,   0,   0)\"/>\t<g fill=\"rgb(38,38,38)\" font-family=\"Arial\" font-size=\"10.00\" stroke=\"none\" text-anchor=\"middle\" transform=\"translate(49.4,412.1)\">\n\t\t<text><tspan font-family=\"Arial\">0</tspan></text>\n\t</g>\n</g>\n<g color=\"black\" fill=\"none\" stroke=\"currentColor\" stroke-linecap=\"butt\" stroke-linejoin=\"miter\" stroke-width=\"1.00\">\n\t<path d=\"M173.1,397.6 L173.1,389.8 M173.1,39.0 L173.1,46.8  \" stroke=\"rgb(  0,   0,   0)\"/>\t<g fill=\"rgb(38,38,38)\" font-family=\"Arial\" font-size=\"10.00\" stroke=\"none\" text-anchor=\"middle\" transform=\"translate(173.1,412.1)\">\n\t\t<text><tspan font-family=\"Arial\">1</tspan></text>\n\t</g>\n</g>\n<g color=\"black\" fill=\"none\" stroke=\"currentColor\" stroke-linecap=\"butt\" stroke-linejoin=\"miter\" stroke-width=\"1.00\">\n\t<path d=\"M296.9,397.6 L296.9,389.8 M296.9,39.0 L296.9,46.8  \" stroke=\"rgb(  0,   0,   0)\"/>\t<g fill=\"rgb(38,38,38)\" font-family=\"Arial\" font-size=\"10.00\" stroke=\"none\" text-anchor=\"middle\" transform=\"translate(296.9,412.1)\">\n\t\t<text><tspan font-family=\"Arial\">2</tspan></text>\n\t</g>\n</g>\n<g color=\"black\" fill=\"none\" stroke=\"currentColor\" stroke-linecap=\"butt\" stroke-linejoin=\"miter\" stroke-width=\"1.00\">\n\t<path d=\"M420.6,397.6 L420.6,389.8 M420.6,39.0 L420.6,46.8  \" stroke=\"rgb(  0,   0,   0)\"/>\t<g fill=\"rgb(38,38,38)\" font-family=\"Arial\" font-size=\"10.00\" stroke=\"none\" text-anchor=\"middle\" transform=\"translate(420.6,412.1)\">\n\t\t<text><tspan font-family=\"Arial\">3</tspan></text>\n\t</g>\n</g>\n<g color=\"black\" fill=\"none\" stroke=\"currentColor\" stroke-linecap=\"butt\" stroke-linejoin=\"miter\" stroke-width=\"1.00\">\n\t<path d=\"M544.3,397.6 L544.3,389.8 M544.3,39.0 L544.3,46.8  \" stroke=\"rgb(  0,   0,   0)\"/>\t<g fill=\"rgb(38,38,38)\" font-family=\"Arial\" font-size=\"10.00\" stroke=\"none\" text-anchor=\"middle\" transform=\"translate(544.3,412.1)\">\n\t\t<text><tspan font-family=\"Arial\">4</tspan></text>\n\t</g>\n</g>\n<g color=\"black\" fill=\"none\" stroke=\"currentColor\" stroke-linecap=\"butt\" stroke-linejoin=\"miter\" stroke-width=\"1.00\">\n</g>\n<g color=\"black\" fill=\"none\" stroke=\"currentColor\" stroke-linecap=\"butt\" stroke-linejoin=\"miter\" stroke-width=\"1.00\">\n</g>\n\t<g id=\"gnuplot_plot_1a\"><title>gnuplot_plot_1a</title>\n<g color=\"#FFFFFF\" fill=\"none\" stroke=\"rgb(  0,   0,   0)\" stroke-linecap=\"butt\" stroke-linejoin=\"miter\" stroke-width=\"0.50\">\n</g>\n<g color=\"black\" fill=\"none\" stroke=\"currentColor\" stroke-linecap=\"butt\" stroke-linejoin=\"miter\" stroke-width=\"0.50\">\n\t<use color=\"rgb(255,   0, 255)\" transform=\"translate(296.9,218.3) scale(5.60)\" xlink:href=\"#gpPt5\"/>\n\t<use color=\"rgb(255,   0, 255)\" transform=\"translate(327.8,218.3) scale(5.60)\" xlink:href=\"#gpPt5\"/>\n\t<use color=\"rgb(255,   0, 255)\" transform=\"translate(358.7,218.3) scale(5.60)\" xlink:href=\"#gpPt5\"/>\n\t<use color=\"rgb(255,   0, 255)\" transform=\"translate(389.6,218.3) scale(5.60)\" xlink:href=\"#gpPt5\"/>\n\t<use color=\"rgb(255,   0, 255)\" transform=\"translate(420.6,218.3) scale(5.60)\" xlink:href=\"#gpPt5\"/>\n\t<use color=\"rgb(255,   0, 255)\" transform=\"translate(451.5,218.3) scale(5.60)\" xlink:href=\"#gpPt5\"/>\n\t<use color=\"rgb(255,   0, 255)\" transform=\"translate(482.4,218.3) scale(5.60)\" xlink:href=\"#gpPt5\"/>\n\t<use color=\"rgb(255,   0, 255)\" transform=\"translate(513.4,218.3) scale(5.60)\" xlink:href=\"#gpPt5\"/>\n\t<use color=\"rgb(255,   0, 255)\" transform=\"translate(173.1,218.3) scale(5.60)\" xlink:href=\"#gpPt5\"/>\n\t<use color=\"rgb(255,   0, 255)\" transform=\"translate(188.6,218.3) scale(5.60)\" xlink:href=\"#gpPt5\"/>\n\t<use color=\"rgb(255,   0, 255)\" transform=\"translate(204.1,218.3) scale(5.60)\" xlink:href=\"#gpPt5\"/>\n\t<use color=\"rgb(255,   0, 255)\" transform=\"translate(219.5,218.3) scale(5.60)\" xlink:href=\"#gpPt5\"/>\n\t<use color=\"rgb(255,   0, 255)\" transform=\"translate(235.0,218.3) scale(5.60)\" xlink:href=\"#gpPt5\"/>\n\t<use color=\"rgb(255,   0, 255)\" transform=\"translate(250.5,218.3) scale(5.60)\" xlink:href=\"#gpPt5\"/>\n\t<use color=\"rgb(255,   0, 255)\" transform=\"translate(265.9,218.3) scale(5.60)\" xlink:href=\"#gpPt5\"/>\n\t<use color=\"rgb(255,   0, 255)\" transform=\"translate(281.4,218.3) scale(5.60)\" xlink:href=\"#gpPt5\"/>\n\t<use color=\"rgb(255,   0, 255)\" transform=\"translate(111.3,218.3) scale(5.60)\" xlink:href=\"#gpPt5\"/>\n\t<use color=\"rgb(255,   0, 255)\" transform=\"translate(119.0,218.3) scale(5.60)\" xlink:href=\"#gpPt5\"/>\n\t<use color=\"rgb(255,   0, 255)\" transform=\"translate(126.7,218.3) scale(5.60)\" xlink:href=\"#gpPt5\"/>\n\t<use color=\"rgb(255,   0, 255)\" transform=\"translate(134.5,218.3) scale(5.60)\" xlink:href=\"#gpPt5\"/>\n\t<use color=\"rgb(255,   0, 255)\" transform=\"translate(142.2,218.3) scale(5.60)\" xlink:href=\"#gpPt5\"/>\n\t<use color=\"rgb(255,   0, 255)\" transform=\"translate(149.9,218.3) scale(5.60)\" xlink:href=\"#gpPt5\"/>\n\t<use color=\"rgb(255,   0, 255)\" transform=\"translate(157.7,218.3) scale(5.60)\" xlink:href=\"#gpPt5\"/>\n\t<use color=\"rgb(255,   0, 255)\" transform=\"translate(165.4,218.3) scale(5.60)\" xlink:href=\"#gpPt5\"/>\n\t<use color=\"rgb(255,   0, 255)\" transform=\"translate(80.3,218.3) scale(5.60)\" xlink:href=\"#gpPt5\"/>\n\t<use color=\"rgb(255,   0, 255)\" transform=\"translate(84.2,218.3) scale(5.60)\" xlink:href=\"#gpPt5\"/>\n\t<use color=\"rgb(255,   0, 255)\" transform=\"translate(88.1,218.3) scale(5.60)\" xlink:href=\"#gpPt5\"/>\n\t<use color=\"rgb(255,   0, 255)\" transform=\"translate(91.9,218.3) scale(5.60)\" xlink:href=\"#gpPt5\"/>\n\t<use color=\"rgb(255,   0, 255)\" transform=\"translate(95.8,218.3) scale(5.60)\" xlink:href=\"#gpPt5\"/>\n\t<use color=\"rgb(255,   0, 255)\" transform=\"translate(99.7,218.3) scale(5.60)\" xlink:href=\"#gpPt5\"/>\n\t<use color=\"rgb(255,   0, 255)\" transform=\"translate(103.5,218.3) scale(5.60)\" xlink:href=\"#gpPt5\"/>\n\t<use color=\"rgb(255,   0, 255)\" transform=\"translate(107.4,218.3) scale(5.60)\" xlink:href=\"#gpPt5\"/>\n\t<use color=\"rgb(255,   0, 255)\" transform=\"translate(64.9,218.3) scale(5.60)\" xlink:href=\"#gpPt5\"/>\n\t<use color=\"rgb(255,   0, 255)\" transform=\"translate(66.8,218.3) scale(5.60)\" xlink:href=\"#gpPt5\"/>\n\t<use color=\"rgb(255,   0, 255)\" transform=\"translate(68.7,218.3) scale(5.60)\" xlink:href=\"#gpPt5\"/>\n\t<use color=\"rgb(255,   0, 255)\" transform=\"translate(70.7,218.3) scale(5.60)\" xlink:href=\"#gpPt5\"/>\n\t<use color=\"rgb(255,   0, 255)\" transform=\"translate(72.6,218.3) scale(5.60)\" xlink:href=\"#gpPt5\"/>\n\t<use color=\"rgb(255,   0, 255)\" transform=\"translate(74.5,218.3) scale(5.60)\" xlink:href=\"#gpPt5\"/>\n\t<use color=\"rgb(255,   0, 255)\" transform=\"translate(76.5,218.3) scale(5.60)\" xlink:href=\"#gpPt5\"/>\n\t<use color=\"rgb(255,   0, 255)\" transform=\"translate(78.4,218.3) scale(5.60)\" xlink:href=\"#gpPt5\"/>\n\t<use color=\"rgb(255,   0, 255)\" transform=\"translate(57.1,218.3) scale(5.60)\" xlink:href=\"#gpPt5\"/>\n\t<use color=\"rgb(255,   0, 255)\" transform=\"translate(58.1,218.3) scale(5.60)\" xlink:href=\"#gpPt5\"/>\n\t<use color=\"rgb(255,   0, 255)\" transform=\"translate(59.1,218.3) scale(5.60)\" xlink:href=\"#gpPt5\"/>\n\t<use color=\"rgb(255,   0, 255)\" transform=\"translate(60.0,218.3) scale(5.60)\" xlink:href=\"#gpPt5\"/>\n\t<use color=\"rgb(255,   0, 255)\" transform=\"translate(61.0,218.3) scale(5.60)\" xlink:href=\"#gpPt5\"/>\n\t<use color=\"rgb(255,   0, 255)\" transform=\"translate(62.0,218.3) scale(5.60)\" xlink:href=\"#gpPt5\"/>\n\t<use color=\"rgb(255,   0, 255)\" transform=\"translate(62.9,218.3) scale(5.60)\" xlink:href=\"#gpPt5\"/>\n\t<use color=\"rgb(255,   0, 255)\" transform=\"translate(63.9,218.3) scale(5.60)\" xlink:href=\"#gpPt5\"/>\n</g>\n\t</g>\n<g color=\"#FFFFFF\" fill=\"none\" stroke=\"rgb(255,   0, 255)\" stroke-linecap=\"butt\" stroke-linejoin=\"miter\" stroke-width=\"2.00\">\n</g>\n<g color=\"black\" fill=\"none\" stroke=\"currentColor\" stroke-linecap=\"butt\" stroke-linejoin=\"miter\" stroke-width=\"2.00\">\n</g>\n<g color=\"black\" fill=\"none\" stroke=\"black\" stroke-linecap=\"butt\" stroke-linejoin=\"miter\" stroke-width=\"0.50\">\n\t<path d=\"M49.5,397.5 L544.4,397.5 M49.5,38.9 L544.4,38.9 M49.5,397.5 L49.5,38.9 M544.4,397.5 L544.4,38.9    \" stroke=\"rgb( 38,  38,  38)\"/></g>\n<g color=\"black\" fill=\"none\" stroke=\"rgb( 38,  38,  38)\" stroke-linecap=\"butt\" stroke-linejoin=\"miter\" stroke-width=\"1.00\">\n</g>\n<g color=\"black\" fill=\"none\" stroke=\"currentColor\" stroke-linecap=\"butt\" stroke-linejoin=\"miter\" stroke-width=\"1.00\">\n\t<g fill=\"rgb(0,0,0)\" font-family=\":Bold\" font-size=\"11.00\" stroke=\"none\" text-anchor=\"middle\" transform=\"translate(296.8,20.5)\">\n\t\t<text><tspan font-family=\"\" font-weight=\"bold\">M(2,4,-3,2) gepi szamok halmaza</tspan></text>\n\t</g>\n</g>\n<g color=\"black\" fill=\"none\" stroke=\"currentColor\" stroke-linecap=\"butt\" stroke-linejoin=\"miter\" stroke-width=\"1.00\">\n</g>\n</g>\n</svg>",
      "text/plain": [
       "<IPython.core.display.SVG object>"
      ]
     },
     "execution_count": 3,
     "metadata": {
     },
     "output_type": "execute_result"
    }
   ],
   "source": [
    "format\n",
    "v=[8:15];\n",
    "for j=2:7\n",
    "    M(:,j)=v./2^j;\n",
    "end\n",
    "M(:,1) = [];\n",
    "meret=size(M,1)*size(M,2);\n",
    "m=reshape(M,1,meret);\n",
    "plot(m,zeros(1,meret),'mo')\n",
    "axis([0 4 -0.001 0.001])\n",
    "title('M(2,4,-3,2) gepi szamok halmaza')"
   ]
  },
  {
   "cell_type": "markdown",
   "metadata": {
    "collapsed": false
   },
   "source": [
    "<br>\n",
    "<b>2.feladat.</b> A help parancs segítségével értelmezzük az <i>eps</i>, <i>realmin</i> és <i>realmax</i> parancsokat. Mit jelentenek ezek az értékek a tanult gépi számok témakör fényében?"
   ]
  },
  {
   "cell_type": "code",
   "execution_count": 2,
   "metadata": {
    "collapsed": false
   },
   "outputs": [
   ],
   "source": [
    "%help eps\n",
    "%https://www.mathworks.com/help/matlab/ref/eps.html\n",
    "%help realmin\n",
    "%https://www.mathworks.com/help/matlab/ref/realmin.html\n",
    "%help realmax\n",
    "%https://www.mathworks.com/help/matlab/ref/realmax.html\n"
   ]
  },
  {
   "cell_type": "code",
   "execution_count": 4,
   "metadata": {
    "collapsed": false
   },
   "outputs": [
    {
     "name": "stdout",
     "output_type": "stream",
     "text": [
      "ans =    2.2204e-16\n",
      "ans =   2.2251e-308\n",
      "ans =   1.7977e+308\n"
     ]
    }
   ],
   "source": [
    "eps\n",
    "realmin\n",
    "realmax"
   ]
  },
  {
   "cell_type": "markdown",
   "metadata": {
    "collapsed": false
   },
   "source": [
    "<br>\n",
    "<b>3.feladat.</b> Ábrázoljuk az $1$ kis környezetében az $(x-1)^2$ kifejezés értékét az alábbi \n",
    "\n",
    "+ $f(x)=(x-1)^8$ és  \n",
    "+ $g(x)=x^8 - 8x^7 + 28x^6 - 56x^5 + 70x^4 - 56x^3 + 28x^2 - 8x + 1$\n",
    "\n",
    "függvények segítségével!"
   ]
  },
  {
   "cell_type": "code",
   "execution_count": 5,
   "metadata": {
    "collapsed": false
   },
   "outputs": [
    {
     "data": {
      "image/svg+xml": "<svg height=\"420px\" viewBox=\"0 0 560 420\" width=\"560px\" xmlns=\"http://www.w3.org/2000/svg\" xmlns:xlink=\"http://www.w3.org/1999/xlink\">\n\n<title>Gnuplot</title>\n<desc>Produced by GNUPLOT 5.4 patchlevel 0 </desc>\n\n<g id=\"gnuplot_canvas\">\n\n<rect fill=\"#ffffff\" height=\"420\" width=\"560\" x=\"0\" y=\"0\"/>\n<defs>\n\n\t<circle id=\"gpDot\" r=\"0.5\" stroke=\"currentColor\" stroke-width=\"0.5\"/>\n\t<path d=\"M-1,0 h2 M0,-1 v2\" id=\"gpPt0\" stroke=\"currentColor\" stroke-width=\"0.357\"/>\n\t<path d=\"M-1,-1 L1,1 M1,-1 L-1,1\" id=\"gpPt1\" stroke=\"currentColor\" stroke-width=\"0.357\"/>\n\t<path d=\"M-1,0 L1,0 M0,-1 L0,1 M-1,-1 L1,1 M-1,1 L1,-1\" id=\"gpPt2\" stroke=\"currentColor\" stroke-width=\"0.357\"/>\n\t<rect height=\"2\" id=\"gpPt3\" stroke=\"currentColor\" stroke-width=\"0.357\" width=\"2\" x=\"-1\" y=\"-1\"/>\n\t<rect fill=\"currentColor\" height=\"2\" id=\"gpPt4\" stroke=\"currentColor\" stroke-width=\"0.357\" width=\"2\" x=\"-1\" y=\"-1\"/>\n\t<circle cx=\"0\" cy=\"0\" id=\"gpPt5\" r=\"1\" stroke=\"currentColor\" stroke-width=\"0.357\"/>\n\t<use fill=\"currentColor\" id=\"gpPt6\" stroke=\"none\" xlink:href=\"#gpPt5\"/>\n\t<path d=\"M0,-1.33 L-1.33,0.67 L1.33,0.67 z\" id=\"gpPt7\" stroke=\"currentColor\" stroke-width=\"0.357\"/>\n\t<use fill=\"currentColor\" id=\"gpPt8\" stroke=\"none\" xlink:href=\"#gpPt7\"/>\n\t<use id=\"gpPt9\" stroke=\"currentColor\" transform=\"rotate(180)\" xlink:href=\"#gpPt7\"/>\n\t<use fill=\"currentColor\" id=\"gpPt10\" stroke=\"none\" xlink:href=\"#gpPt9\"/>\n\t<use id=\"gpPt11\" stroke=\"currentColor\" transform=\"rotate(45)\" xlink:href=\"#gpPt3\"/>\n\t<use fill=\"currentColor\" id=\"gpPt12\" stroke=\"none\" xlink:href=\"#gpPt11\"/>\n\t<path d=\"M0,1.330 L1.265,0.411 L0.782,-1.067 L-0.782,-1.076 L-1.265,0.411 z\" id=\"gpPt13\" stroke=\"currentColor\" stroke-width=\"0.357\"/>\n\t<use fill=\"currentColor\" id=\"gpPt14\" stroke=\"none\" xlink:href=\"#gpPt13\"/>\n\t<filter filterUnits=\"objectBoundingBox\" height=\"1\" id=\"textbox\" width=\"1\" x=\"0\" y=\"0\">\n\t  <feFlood flood-color=\"#FFFFFF\" flood-opacity=\"1\" result=\"bgnd\"/>\n\t  <feComposite in=\"SourceGraphic\" in2=\"bgnd\" operator=\"atop\"/>\n\t</filter>\n\t<filter filterUnits=\"objectBoundingBox\" height=\"1\" id=\"greybox\" width=\"1\" x=\"0\" y=\"0\">\n\t  <feFlood flood-color=\"lightgrey\" flood-opacity=\"1\" result=\"grey\"/>\n\t  <feComposite in=\"SourceGraphic\" in2=\"grey\" operator=\"atop\"/>\n\t</filter>\n</defs>\n<g color=\"#FFFFFF\" fill=\"none\" stroke=\"currentColor\" stroke-linecap=\"butt\" stroke-linejoin=\"miter\" stroke-width=\"1.00\">\n</g>\n<g color=\"black\" fill=\"none\" stroke=\"currentColor\" stroke-linecap=\"butt\" stroke-linejoin=\"miter\" stroke-width=\"1.00\">\n\t<g shape-rendering=\"crispEdges\" stroke=\"none\">\n\t\t<polygon fill=\"rgb(255, 255, 255)\" points=\"44.2,397.6 544.2,397.6 544.2,11.4 44.2,11.4 \"/>\n\t</g>\n</g>\n<g color=\"black\" fill=\"none\" stroke=\"currentColor\" stroke-linecap=\"butt\" stroke-linejoin=\"miter\" stroke-width=\"1.00\">\n\t<path d=\"M44.2,397.6 L52.0,397.6 M544.3,397.6 L536.5,397.6  \" stroke=\"rgb(  0,   0,   0)\"/>\t<g fill=\"rgb(38,38,38)\" font-family=\"Arial\" font-size=\"10.00\" stroke=\"none\" text-anchor=\"end\" transform=\"translate(39.0,400.9)\">\n\t\t<text><tspan font-family=\"Arial\">-2e-14</tspan></text>\n\t</g>\n</g>\n<g color=\"black\" fill=\"none\" stroke=\"currentColor\" stroke-linecap=\"butt\" stroke-linejoin=\"miter\" stroke-width=\"1.00\">\n\t<path d=\"M44.2,342.4 L52.0,342.4 M544.3,342.4 L536.5,342.4  \" stroke=\"rgb(  0,   0,   0)\"/>\t<g fill=\"rgb(38,38,38)\" font-family=\"Arial\" font-size=\"10.00\" stroke=\"none\" text-anchor=\"end\" transform=\"translate(39.0,345.7)\">\n\t\t<text><tspan font-family=\"Arial\">-1e-14</tspan></text>\n\t</g>\n</g>\n<g color=\"black\" fill=\"none\" stroke=\"currentColor\" stroke-linecap=\"butt\" stroke-linejoin=\"miter\" stroke-width=\"1.00\">\n\t<path d=\"M44.2,287.2 L52.0,287.2 M544.3,287.2 L536.5,287.2  \" stroke=\"rgb(  0,   0,   0)\"/>\t<g fill=\"rgb(38,38,38)\" font-family=\"Arial\" font-size=\"10.00\" stroke=\"none\" text-anchor=\"end\" transform=\"translate(39.0,290.5)\">\n\t\t<text><tspan font-family=\"Arial\">0</tspan></text>\n\t</g>\n</g>\n<g color=\"black\" fill=\"none\" stroke=\"currentColor\" stroke-linecap=\"butt\" stroke-linejoin=\"miter\" stroke-width=\"1.00\">\n\t<path d=\"M44.2,232.0 L52.0,232.0 M544.3,232.0 L536.5,232.0  \" stroke=\"rgb(  0,   0,   0)\"/>\t<g fill=\"rgb(38,38,38)\" font-family=\"Arial\" font-size=\"10.00\" stroke=\"none\" text-anchor=\"end\" transform=\"translate(39.0,235.3)\">\n\t\t<text><tspan font-family=\"Arial\">1e-14</tspan></text>\n\t</g>\n</g>\n<g color=\"black\" fill=\"none\" stroke=\"currentColor\" stroke-linecap=\"butt\" stroke-linejoin=\"miter\" stroke-width=\"1.00\">\n\t<path d=\"M44.2,176.9 L52.0,176.9 M544.3,176.9 L536.5,176.9  \" stroke=\"rgb(  0,   0,   0)\"/>\t<g fill=\"rgb(38,38,38)\" font-family=\"Arial\" font-size=\"10.00\" stroke=\"none\" text-anchor=\"end\" transform=\"translate(39.0,180.2)\">\n\t\t<text><tspan font-family=\"Arial\">2e-14</tspan></text>\n\t</g>\n</g>\n<g color=\"black\" fill=\"none\" stroke=\"currentColor\" stroke-linecap=\"butt\" stroke-linejoin=\"miter\" stroke-width=\"1.00\">\n\t<path d=\"M44.2,121.7 L52.0,121.7 M544.3,121.7 L536.5,121.7  \" stroke=\"rgb(  0,   0,   0)\"/>\t<g fill=\"rgb(38,38,38)\" font-family=\"Arial\" font-size=\"10.00\" stroke=\"none\" text-anchor=\"end\" transform=\"translate(39.0,125.0)\">\n\t\t<text><tspan font-family=\"Arial\">3e-14</tspan></text>\n\t</g>\n</g>\n<g color=\"black\" fill=\"none\" stroke=\"currentColor\" stroke-linecap=\"butt\" stroke-linejoin=\"miter\" stroke-width=\"1.00\">\n\t<path d=\"M44.2,66.5 L52.0,66.5 M544.3,66.5 L536.5,66.5  \" stroke=\"rgb(  0,   0,   0)\"/>\t<g fill=\"rgb(38,38,38)\" font-family=\"Arial\" font-size=\"10.00\" stroke=\"none\" text-anchor=\"end\" transform=\"translate(39.0,69.8)\">\n\t\t<text><tspan font-family=\"Arial\">4e-14</tspan></text>\n\t</g>\n</g>\n<g color=\"black\" fill=\"none\" stroke=\"currentColor\" stroke-linecap=\"butt\" stroke-linejoin=\"miter\" stroke-width=\"1.00\">\n\t<path d=\"M44.2,11.3 L52.0,11.3 M544.3,11.3 L536.5,11.3  \" stroke=\"rgb(  0,   0,   0)\"/>\t<g fill=\"rgb(38,38,38)\" font-family=\"Arial\" font-size=\"10.00\" stroke=\"none\" text-anchor=\"end\" transform=\"translate(39.0,14.6)\">\n\t\t<text><tspan font-family=\"Arial\">5e-14</tspan></text>\n\t</g>\n</g>\n<g color=\"black\" fill=\"none\" stroke=\"currentColor\" stroke-linecap=\"butt\" stroke-linejoin=\"miter\" stroke-width=\"1.00\">\n\t<path d=\"M44.2,397.6 L44.2,389.8 M44.2,11.3 L44.2,19.1  \" stroke=\"rgb(  0,   0,   0)\"/>\t<g fill=\"rgb(38,38,38)\" font-family=\"Arial\" font-size=\"10.00\" stroke=\"none\" text-anchor=\"middle\" transform=\"translate(44.2,412.1)\">\n\t\t<text><tspan font-family=\"Arial\">0.98</tspan></text>\n\t</g>\n</g>\n<g color=\"black\" fill=\"none\" stroke=\"currentColor\" stroke-linecap=\"butt\" stroke-linejoin=\"miter\" stroke-width=\"1.00\">\n\t<path d=\"M169.2,397.6 L169.2,389.8 M169.2,11.3 L169.2,19.1  \" stroke=\"rgb(  0,   0,   0)\"/>\t<g fill=\"rgb(38,38,38)\" font-family=\"Arial\" font-size=\"10.00\" stroke=\"none\" text-anchor=\"middle\" transform=\"translate(169.2,412.1)\">\n\t\t<text><tspan font-family=\"Arial\">0.99</tspan></text>\n\t</g>\n</g>\n<g color=\"black\" fill=\"none\" stroke=\"currentColor\" stroke-linecap=\"butt\" stroke-linejoin=\"miter\" stroke-width=\"1.00\">\n\t<path d=\"M294.3,397.6 L294.3,389.8 M294.3,11.3 L294.3,19.1  \" stroke=\"rgb(  0,   0,   0)\"/>\t<g fill=\"rgb(38,38,38)\" font-family=\"Arial\" font-size=\"10.00\" stroke=\"none\" text-anchor=\"middle\" transform=\"translate(294.3,412.1)\">\n\t\t<text><tspan font-family=\"Arial\">1</tspan></text>\n\t</g>\n</g>\n<g color=\"black\" fill=\"none\" stroke=\"currentColor\" stroke-linecap=\"butt\" stroke-linejoin=\"miter\" stroke-width=\"1.00\">\n\t<path d=\"M419.3,397.6 L419.3,389.8 M419.3,11.3 L419.3,19.1  \" stroke=\"rgb(  0,   0,   0)\"/>\t<g fill=\"rgb(38,38,38)\" font-family=\"Arial\" font-size=\"10.00\" stroke=\"none\" text-anchor=\"middle\" transform=\"translate(419.3,412.1)\">\n\t\t<text><tspan font-family=\"Arial\">1.01</tspan></text>\n\t</g>\n</g>\n<g color=\"black\" fill=\"none\" stroke=\"currentColor\" stroke-linecap=\"butt\" stroke-linejoin=\"miter\" stroke-width=\"1.00\">\n\t<path d=\"M544.3,397.6 L544.3,389.8 M544.3,11.3 L544.3,19.1  \" stroke=\"rgb(  0,   0,   0)\"/>\t<g fill=\"rgb(38,38,38)\" font-family=\"Arial\" font-size=\"10.00\" stroke=\"none\" text-anchor=\"middle\" transform=\"translate(544.3,412.1)\">\n\t\t<text><tspan font-family=\"Arial\">1.02</tspan></text>\n\t</g>\n</g>\n<g color=\"black\" fill=\"none\" stroke=\"currentColor\" stroke-linecap=\"butt\" stroke-linejoin=\"miter\" stroke-width=\"1.00\">\n</g>\n<g color=\"black\" fill=\"none\" stroke=\"currentColor\" stroke-linecap=\"butt\" stroke-linejoin=\"miter\" stroke-width=\"1.00\">\n</g>\n<g color=\"black\" fill=\"none\" stroke=\"currentColor\" stroke-linecap=\"butt\" stroke-linejoin=\"miter\" stroke-width=\"1.00\">\n\t<path d=\"M470.5,47.1 L470.5,16.9 L539.1,16.9 L539.1,47.1 L470.5,47.1 Z  \" stroke=\"black\"/></g>\n\t<g id=\"gnuplot_plot_1a\"><title>f(x)</title>\n<g color=\"#FFFFFF\" fill=\"none\" stroke=\"black\" stroke-linecap=\"butt\" stroke-linejoin=\"miter\" stroke-width=\"0.50\">\n</g>\n<g color=\"black\" fill=\"none\" stroke=\"currentColor\" stroke-linecap=\"butt\" stroke-linejoin=\"miter\" stroke-width=\"0.50\">\n\t<g fill=\"rgb(0,0,0)\" font-family=\"Arial\" font-size=\"9.00\" stroke=\"none\" text-anchor=\"start\" transform=\"translate(513.9,27.5)\">\n\t\t<text><tspan font-family=\"Arial\">f(x)</tspan></text>\n\t</g>\n</g>\n<g color=\"black\" fill=\"none\" stroke=\"currentColor\" stroke-linecap=\"butt\" stroke-linejoin=\"miter\" stroke-width=\"0.50\">\n\t<use color=\"rgb(255,   0, 255)\" transform=\"translate(44.2,146.0) scale(5.60)\" xlink:href=\"#gpPt2\"/>\n\t<use color=\"rgb(255,   0, 255)\" transform=\"translate(49.3,167.2) scale(5.60)\" xlink:href=\"#gpPt2\"/>\n\t<use color=\"rgb(255,   0, 255)\" transform=\"translate(54.3,185.7) scale(5.60)\" xlink:href=\"#gpPt2\"/>\n\t<use color=\"rgb(255,   0, 255)\" transform=\"translate(59.4,201.6) scale(5.60)\" xlink:href=\"#gpPt2\"/>\n\t<use color=\"rgb(255,   0, 255)\" transform=\"translate(64.4,215.2) scale(5.60)\" xlink:href=\"#gpPt2\"/>\n\t<use color=\"rgb(255,   0, 255)\" transform=\"translate(69.5,227.0) scale(5.60)\" xlink:href=\"#gpPt2\"/>\n\t<use color=\"rgb(255,   0, 255)\" transform=\"translate(74.5,237.0) scale(5.60)\" xlink:href=\"#gpPt2\"/>\n\t<use color=\"rgb(255,   0, 255)\" transform=\"translate(79.6,245.5) scale(5.60)\" xlink:href=\"#gpPt2\"/>\n\t<use color=\"rgb(255,   0, 255)\" transform=\"translate(84.6,252.7) scale(5.60)\" xlink:href=\"#gpPt2\"/>\n\t<use color=\"rgb(255,   0, 255)\" transform=\"translate(89.7,258.9) scale(5.60)\" xlink:href=\"#gpPt2\"/>\n\t<use color=\"rgb(255,   0, 255)\" transform=\"translate(94.7,264.0) scale(5.60)\" xlink:href=\"#gpPt2\"/>\n\t<use color=\"rgb(255,   0, 255)\" transform=\"translate(99.8,268.3) scale(5.60)\" xlink:href=\"#gpPt2\"/>\n\t<use color=\"rgb(255,   0, 255)\" transform=\"translate(104.8,271.9) scale(5.60)\" xlink:href=\"#gpPt2\"/>\n\t<use color=\"rgb(255,   0, 255)\" transform=\"translate(109.9,274.9) scale(5.60)\" xlink:href=\"#gpPt2\"/>\n\t<use color=\"rgb(255,   0, 255)\" transform=\"translate(114.9,277.3) scale(5.60)\" xlink:href=\"#gpPt2\"/>\n\t<use color=\"rgb(255,   0, 255)\" transform=\"translate(120.0,279.4) scale(5.60)\" xlink:href=\"#gpPt2\"/>\n\t<use color=\"rgb(255,   0, 255)\" transform=\"translate(125.0,281.0) scale(5.60)\" xlink:href=\"#gpPt2\"/>\n\t<use color=\"rgb(255,   0, 255)\" transform=\"translate(130.1,282.4) scale(5.60)\" xlink:href=\"#gpPt2\"/>\n\t<use color=\"rgb(255,   0, 255)\" transform=\"translate(135.1,283.4) scale(5.60)\" xlink:href=\"#gpPt2\"/>\n\t<use color=\"rgb(255,   0, 255)\" transform=\"translate(140.2,284.3) scale(5.60)\" xlink:href=\"#gpPt2\"/>\n\t<use color=\"rgb(255,   0, 255)\" transform=\"translate(145.2,285.0) scale(5.60)\" xlink:href=\"#gpPt2\"/>\n\t<use color=\"rgb(255,   0, 255)\" transform=\"translate(150.3,285.5) scale(5.60)\" xlink:href=\"#gpPt2\"/>\n\t<use color=\"rgb(255,   0, 255)\" transform=\"translate(155.3,285.9) scale(5.60)\" xlink:href=\"#gpPt2\"/>\n\t<use color=\"rgb(255,   0, 255)\" transform=\"translate(160.4,286.3) scale(5.60)\" xlink:href=\"#gpPt2\"/>\n\t<use color=\"rgb(255,   0, 255)\" transform=\"translate(165.4,286.5) scale(5.60)\" xlink:href=\"#gpPt2\"/>\n\t<use color=\"rgb(255,   0, 255)\" transform=\"translate(170.5,286.7) scale(5.60)\" xlink:href=\"#gpPt2\"/>\n\t<use color=\"rgb(255,   0, 255)\" transform=\"translate(175.5,286.9) scale(5.60)\" xlink:href=\"#gpPt2\"/>\n\t<use color=\"rgb(255,   0, 255)\" transform=\"translate(180.6,287.0) scale(5.60)\" xlink:href=\"#gpPt2\"/>\n\t<use color=\"rgb(255,   0, 255)\" transform=\"translate(185.6,287.0) scale(5.60)\" xlink:href=\"#gpPt2\"/>\n\t<use color=\"rgb(255,   0, 255)\" transform=\"translate(190.7,287.1) scale(5.60)\" xlink:href=\"#gpPt2\"/>\n\t<use color=\"rgb(255,   0, 255)\" transform=\"translate(195.7,287.1) scale(5.60)\" xlink:href=\"#gpPt2\"/>\n\t<use color=\"rgb(255,   0, 255)\" transform=\"translate(200.8,287.2) scale(5.60)\" xlink:href=\"#gpPt2\"/>\n\t<use color=\"rgb(255,   0, 255)\" transform=\"translate(205.8,287.2) scale(5.60)\" xlink:href=\"#gpPt2\"/>\n\t<use color=\"rgb(255,   0, 255)\" transform=\"translate(210.9,287.2) scale(5.60)\" xlink:href=\"#gpPt2\"/>\n\t<use color=\"rgb(255,   0, 255)\" transform=\"translate(216.0,287.2) scale(5.60)\" xlink:href=\"#gpPt2\"/>\n\t<use color=\"rgb(255,   0, 255)\" transform=\"translate(221.0,287.2) scale(5.60)\" xlink:href=\"#gpPt2\"/>\n\t<use color=\"rgb(255,   0, 255)\" transform=\"translate(226.1,287.2) scale(5.60)\" xlink:href=\"#gpPt2\"/>\n\t<use color=\"rgb(255,   0, 255)\" transform=\"translate(231.1,287.2) scale(5.60)\" xlink:href=\"#gpPt2\"/>\n\t<use color=\"rgb(255,   0, 255)\" transform=\"translate(236.2,287.2) scale(5.60)\" xlink:href=\"#gpPt2\"/>\n\t<use color=\"rgb(255,   0, 255)\" transform=\"translate(241.2,287.2) scale(5.60)\" xlink:href=\"#gpPt2\"/>\n\t<use color=\"rgb(255,   0, 255)\" transform=\"translate(246.3,287.2) scale(5.60)\" xlink:href=\"#gpPt2\"/>\n\t<use color=\"rgb(255,   0, 255)\" transform=\"translate(251.3,287.2) scale(5.60)\" xlink:href=\"#gpPt2\"/>\n\t<use color=\"rgb(255,   0, 255)\" transform=\"translate(256.4,287.2) scale(5.60)\" xlink:href=\"#gpPt2\"/>\n\t<use color=\"rgb(255,   0, 255)\" transform=\"translate(261.4,287.2) scale(5.60)\" xlink:href=\"#gpPt2\"/>\n\t<use color=\"rgb(255,   0, 255)\" transform=\"translate(266.5,287.2) scale(5.60)\" xlink:href=\"#gpPt2\"/>\n\t<use color=\"rgb(255,   0, 255)\" transform=\"translate(271.5,287.2) scale(5.60)\" xlink:href=\"#gpPt2\"/>\n\t<use color=\"rgb(255,   0, 255)\" transform=\"translate(276.6,287.2) scale(5.60)\" xlink:href=\"#gpPt2\"/>\n\t<use color=\"rgb(255,   0, 255)\" transform=\"translate(281.6,287.2) scale(5.60)\" xlink:href=\"#gpPt2\"/>\n\t<use color=\"rgb(255,   0, 255)\" transform=\"translate(286.7,287.2) scale(5.60)\" xlink:href=\"#gpPt2\"/>\n\t<use color=\"rgb(255,   0, 255)\" transform=\"translate(291.7,287.2) scale(5.60)\" xlink:href=\"#gpPt2\"/>\n\t<use color=\"rgb(255,   0, 255)\" transform=\"translate(296.8,287.2) scale(5.60)\" xlink:href=\"#gpPt2\"/>\n\t<use color=\"rgb(255,   0, 255)\" transform=\"translate(301.8,287.2) scale(5.60)\" xlink:href=\"#gpPt2\"/>\n\t<use color=\"rgb(255,   0, 255)\" transform=\"translate(306.9,287.2) scale(5.60)\" xlink:href=\"#gpPt2\"/>\n\t<use color=\"rgb(255,   0, 255)\" transform=\"translate(311.9,287.2) scale(5.60)\" xlink:href=\"#gpPt2\"/>\n\t<use color=\"rgb(255,   0, 255)\" transform=\"translate(317.0,287.2) scale(5.60)\" xlink:href=\"#gpPt2\"/>\n\t<use color=\"rgb(255,   0, 255)\" transform=\"translate(322.0,287.2) scale(5.60)\" xlink:href=\"#gpPt2\"/>\n\t<use color=\"rgb(255,   0, 255)\" transform=\"translate(327.1,287.2) scale(5.60)\" xlink:href=\"#gpPt2\"/>\n\t<use color=\"rgb(255,   0, 255)\" transform=\"translate(332.1,287.2) scale(5.60)\" xlink:href=\"#gpPt2\"/>\n\t<use color=\"rgb(255,   0, 255)\" transform=\"translate(337.2,287.2) scale(5.60)\" xlink:href=\"#gpPt2\"/>\n\t<use color=\"rgb(255,   0, 255)\" transform=\"translate(342.2,287.2) scale(5.60)\" xlink:href=\"#gpPt2\"/>\n\t<use color=\"rgb(255,   0, 255)\" transform=\"translate(347.3,287.2) scale(5.60)\" xlink:href=\"#gpPt2\"/>\n\t<use color=\"rgb(255,   0, 255)\" transform=\"translate(352.3,287.2) scale(5.60)\" xlink:href=\"#gpPt2\"/>\n\t<use color=\"rgb(255,   0, 255)\" transform=\"translate(357.4,287.2) scale(5.60)\" xlink:href=\"#gpPt2\"/>\n\t<use color=\"rgb(255,   0, 255)\" transform=\"translate(362.4,287.2) scale(5.60)\" xlink:href=\"#gpPt2\"/>\n\t<use color=\"rgb(255,   0, 255)\" transform=\"translate(367.5,287.2) scale(5.60)\" xlink:href=\"#gpPt2\"/>\n\t<use color=\"rgb(255,   0, 255)\" transform=\"translate(372.5,287.2) scale(5.60)\" xlink:href=\"#gpPt2\"/>\n\t<use color=\"rgb(255,   0, 255)\" transform=\"translate(377.6,287.2) scale(5.60)\" xlink:href=\"#gpPt2\"/>\n\t<use color=\"rgb(255,   0, 255)\" transform=\"translate(382.7,287.2) scale(5.60)\" xlink:href=\"#gpPt2\"/>\n\t<use color=\"rgb(255,   0, 255)\" transform=\"translate(387.7,287.2) scale(5.60)\" xlink:href=\"#gpPt2\"/>\n\t<use color=\"rgb(255,   0, 255)\" transform=\"translate(392.8,287.1) scale(5.60)\" xlink:href=\"#gpPt2\"/>\n\t<use color=\"rgb(255,   0, 255)\" transform=\"translate(397.8,287.1) scale(5.60)\" xlink:href=\"#gpPt2\"/>\n\t<use color=\"rgb(255,   0, 255)\" transform=\"translate(402.9,287.0) scale(5.60)\" xlink:href=\"#gpPt2\"/>\n\t<use color=\"rgb(255,   0, 255)\" transform=\"translate(407.9,287.0) scale(5.60)\" xlink:href=\"#gpPt2\"/>\n\t<use color=\"rgb(255,   0, 255)\" transform=\"translate(413.0,286.9) scale(5.60)\" xlink:href=\"#gpPt2\"/>\n\t<use color=\"rgb(255,   0, 255)\" transform=\"translate(418.0,286.7) scale(5.60)\" xlink:href=\"#gpPt2\"/>\n\t<use color=\"rgb(255,   0, 255)\" transform=\"translate(423.1,286.5) scale(5.60)\" xlink:href=\"#gpPt2\"/>\n\t<use color=\"rgb(255,   0, 255)\" transform=\"translate(428.1,286.3) scale(5.60)\" xlink:href=\"#gpPt2\"/>\n\t<use color=\"rgb(255,   0, 255)\" transform=\"translate(433.2,285.9) scale(5.60)\" xlink:href=\"#gpPt2\"/>\n\t<use color=\"rgb(255,   0, 255)\" transform=\"translate(438.2,285.5) scale(5.60)\" xlink:href=\"#gpPt2\"/>\n\t<use color=\"rgb(255,   0, 255)\" transform=\"translate(443.3,285.0) scale(5.60)\" xlink:href=\"#gpPt2\"/>\n\t<use color=\"rgb(255,   0, 255)\" transform=\"translate(448.3,284.3) scale(5.60)\" xlink:href=\"#gpPt2\"/>\n\t<use color=\"rgb(255,   0, 255)\" transform=\"translate(453.4,283.4) scale(5.60)\" xlink:href=\"#gpPt2\"/>\n\t<use color=\"rgb(255,   0, 255)\" transform=\"translate(458.4,282.4) scale(5.60)\" xlink:href=\"#gpPt2\"/>\n\t<use color=\"rgb(255,   0, 255)\" transform=\"translate(463.5,281.0) scale(5.60)\" xlink:href=\"#gpPt2\"/>\n\t<use color=\"rgb(255,   0, 255)\" transform=\"translate(468.5,279.4) scale(5.60)\" xlink:href=\"#gpPt2\"/>\n\t<use color=\"rgb(255,   0, 255)\" transform=\"translate(473.6,277.3) scale(5.60)\" xlink:href=\"#gpPt2\"/>\n\t<use color=\"rgb(255,   0, 255)\" transform=\"translate(478.6,274.9) scale(5.60)\" xlink:href=\"#gpPt2\"/>\n\t<use color=\"rgb(255,   0, 255)\" transform=\"translate(483.7,271.9) scale(5.60)\" xlink:href=\"#gpPt2\"/>\n\t<use color=\"rgb(255,   0, 255)\" transform=\"translate(488.7,268.3) scale(5.60)\" xlink:href=\"#gpPt2\"/>\n\t<use color=\"rgb(255,   0, 255)\" transform=\"translate(493.8,264.0) scale(5.60)\" xlink:href=\"#gpPt2\"/>\n\t<use color=\"rgb(255,   0, 255)\" transform=\"translate(498.8,258.9) scale(5.60)\" xlink:href=\"#gpPt2\"/>\n\t<use color=\"rgb(255,   0, 255)\" transform=\"translate(503.9,252.7) scale(5.60)\" xlink:href=\"#gpPt2\"/>\n\t<use color=\"rgb(255,   0, 255)\" transform=\"translate(508.9,245.5) scale(5.60)\" xlink:href=\"#gpPt2\"/>\n\t<use color=\"rgb(255,   0, 255)\" transform=\"translate(514.0,237.0) scale(5.60)\" xlink:href=\"#gpPt2\"/>\n\t<use color=\"rgb(255,   0, 255)\" transform=\"translate(519.0,227.0) scale(5.60)\" xlink:href=\"#gpPt2\"/>\n\t<use color=\"rgb(255,   0, 255)\" transform=\"translate(524.1,215.2) scale(5.60)\" xlink:href=\"#gpPt2\"/>\n\t<use color=\"rgb(255,   0, 255)\" transform=\"translate(529.1,201.6) scale(5.60)\" xlink:href=\"#gpPt2\"/>\n\t<use color=\"rgb(255,   0, 255)\" transform=\"translate(534.2,185.7) scale(5.60)\" xlink:href=\"#gpPt2\"/>\n\t<use color=\"rgb(255,   0, 255)\" transform=\"translate(539.2,167.2) scale(5.60)\" xlink:href=\"#gpPt2\"/>\n\t<use color=\"rgb(255,   0, 255)\" transform=\"translate(544.3,146.0) scale(5.60)\" xlink:href=\"#gpPt2\"/>\n\t<use color=\"rgb(255,   0, 255)\" transform=\"translate(492.2,24.5) scale(5.60)\" xlink:href=\"#gpPt2\"/>\n</g>\n\t</g>\n\t<g id=\"gnuplot_plot_2a\"><title>g(x)</title>\n<g color=\"black\" fill=\"none\" stroke=\"currentColor\" stroke-linecap=\"butt\" stroke-linejoin=\"miter\" stroke-width=\"0.50\">\n\t<g fill=\"rgb(0,0,0)\" font-family=\"Arial\" font-size=\"9.00\" stroke=\"none\" text-anchor=\"start\" transform=\"translate(513.9,42.6)\">\n\t\t<text><tspan font-family=\"Arial\">g(x)</tspan></text>\n\t</g>\n</g>\n<g color=\"black\" fill=\"none\" stroke=\"currentColor\" stroke-linecap=\"butt\" stroke-linejoin=\"miter\" stroke-width=\"0.50\">\n\t<use color=\"rgb(  0,   0, 255)\" transform=\"translate(44.2,189.2) scale(5.60)\" xlink:href=\"#gpPt5\"/>\n\t<use color=\"rgb(  0,   0, 255)\" transform=\"translate(49.3,140.2) scale(5.60)\" xlink:href=\"#gpPt5\"/>\n\t<use color=\"rgb(  0,   0, 255)\" transform=\"translate(54.3,130.4) scale(5.60)\" xlink:href=\"#gpPt5\"/>\n\t<use color=\"rgb(  0,   0, 255)\" transform=\"translate(59.4,199.0) scale(5.60)\" xlink:href=\"#gpPt5\"/>\n\t<use color=\"rgb(  0,   0, 255)\" transform=\"translate(64.4,287.2) scale(5.60)\" xlink:href=\"#gpPt5\"/>\n\t<use color=\"rgb(  0,   0, 255)\" transform=\"translate(69.5,218.6) scale(5.60)\" xlink:href=\"#gpPt5\"/>\n\t<use color=\"rgb(  0,   0, 255)\" transform=\"translate(74.5,306.8) scale(5.60)\" xlink:href=\"#gpPt5\"/>\n\t<use color=\"rgb(  0,   0, 255)\" transform=\"translate(79.6,297.0) scale(5.60)\" xlink:href=\"#gpPt5\"/>\n\t<use color=\"rgb(  0,   0, 255)\" transform=\"translate(84.6,228.4) scale(5.60)\" xlink:href=\"#gpPt5\"/>\n\t<use color=\"rgb(  0,   0, 255)\" transform=\"translate(89.7,218.6) scale(5.60)\" xlink:href=\"#gpPt5\"/>\n\t<use color=\"rgb(  0,   0, 255)\" transform=\"translate(94.7,306.8) scale(5.60)\" xlink:href=\"#gpPt5\"/>\n\t<use color=\"rgb(  0,   0, 255)\" transform=\"translate(99.8,316.6) scale(5.60)\" xlink:href=\"#gpPt5\"/>\n\t<use color=\"rgb(  0,   0, 255)\" transform=\"translate(104.8,228.4) scale(5.60)\" xlink:href=\"#gpPt5\"/>\n\t<use color=\"rgb(  0,   0, 255)\" transform=\"translate(109.9,218.6) scale(5.60)\" xlink:href=\"#gpPt5\"/>\n\t<use color=\"rgb(  0,   0, 255)\" transform=\"translate(114.9,287.2) scale(5.60)\" xlink:href=\"#gpPt5\"/>\n\t<use color=\"rgb(  0,   0, 255)\" transform=\"translate(120.0,277.4) scale(5.60)\" xlink:href=\"#gpPt5\"/>\n\t<use color=\"rgb(  0,   0, 255)\" transform=\"translate(125.0,365.7) scale(5.60)\" xlink:href=\"#gpPt5\"/>\n\t<use color=\"rgb(  0,   0, 255)\" transform=\"translate(130.1,238.2) scale(5.60)\" xlink:href=\"#gpPt5\"/>\n\t<use color=\"rgb(  0,   0, 255)\" transform=\"translate(135.1,346.0) scale(5.60)\" xlink:href=\"#gpPt5\"/>\n\t<use color=\"rgb(  0,   0, 255)\" transform=\"translate(140.2,238.2) scale(5.60)\" xlink:href=\"#gpPt5\"/>\n\t<use color=\"rgb(  0,   0, 255)\" transform=\"translate(145.2,287.2) scale(5.60)\" xlink:href=\"#gpPt5\"/>\n\t<use color=\"rgb(  0,   0, 255)\" transform=\"translate(150.3,277.4) scale(5.60)\" xlink:href=\"#gpPt5\"/>\n\t<use color=\"rgb(  0,   0, 255)\" transform=\"translate(155.3,287.2) scale(5.60)\" xlink:href=\"#gpPt5\"/>\n\t<use color=\"rgb(  0,   0, 255)\" transform=\"translate(160.4,257.8) scale(5.60)\" xlink:href=\"#gpPt5\"/>\n\t<use color=\"rgb(  0,   0, 255)\" transform=\"translate(165.4,228.4) scale(5.60)\" xlink:href=\"#gpPt5\"/>\n\t<use color=\"rgb(  0,   0, 255)\" transform=\"translate(170.5,316.6) scale(5.60)\" xlink:href=\"#gpPt5\"/>\n\t<use color=\"rgb(  0,   0, 255)\" transform=\"translate(175.5,243.1) scale(5.60)\" xlink:href=\"#gpPt5\"/>\n\t<use color=\"rgb(  0,   0, 255)\" transform=\"translate(180.6,350.9) scale(5.60)\" xlink:href=\"#gpPt5\"/>\n\t<use color=\"rgb(  0,   0, 255)\" transform=\"translate(185.6,301.9) scale(5.60)\" xlink:href=\"#gpPt5\"/>\n\t<use color=\"rgb(  0,   0, 255)\" transform=\"translate(190.7,233.3) scale(5.60)\" xlink:href=\"#gpPt5\"/>\n\t<use color=\"rgb(  0,   0, 255)\" transform=\"translate(195.7,321.5) scale(5.60)\" xlink:href=\"#gpPt5\"/>\n\t<use color=\"rgb(  0,   0, 255)\" transform=\"translate(200.8,311.7) scale(5.60)\" xlink:href=\"#gpPt5\"/>\n\t<use color=\"rgb(  0,   0, 255)\" transform=\"translate(205.8,341.1) scale(5.60)\" xlink:href=\"#gpPt5\"/>\n\t<use color=\"rgb(  0,   0, 255)\" transform=\"translate(210.9,311.7) scale(5.60)\" xlink:href=\"#gpPt5\"/>\n\t<use color=\"rgb(  0,   0, 255)\" transform=\"translate(216.0,321.5) scale(5.60)\" xlink:href=\"#gpPt5\"/>\n\t<use color=\"rgb(  0,   0, 255)\" transform=\"translate(221.0,311.7) scale(5.60)\" xlink:href=\"#gpPt5\"/>\n\t<use color=\"rgb(  0,   0, 255)\" transform=\"translate(226.1,321.5) scale(5.60)\" xlink:href=\"#gpPt5\"/>\n\t<use color=\"rgb(  0,   0, 255)\" transform=\"translate(231.1,292.1) scale(5.60)\" xlink:href=\"#gpPt5\"/>\n\t<use color=\"rgb(  0,   0, 255)\" transform=\"translate(236.2,282.3) scale(5.60)\" xlink:href=\"#gpPt5\"/>\n\t<use color=\"rgb(  0,   0, 255)\" transform=\"translate(241.2,311.7) scale(5.60)\" xlink:href=\"#gpPt5\"/>\n\t<use color=\"rgb(  0,   0, 255)\" transform=\"translate(246.3,262.7) scale(5.60)\" xlink:href=\"#gpPt5\"/>\n\t<use color=\"rgb(  0,   0, 255)\" transform=\"translate(251.3,311.7) scale(5.60)\" xlink:href=\"#gpPt5\"/>\n\t<use color=\"rgb(  0,   0, 255)\" transform=\"translate(256.4,282.3) scale(5.60)\" xlink:href=\"#gpPt5\"/>\n\t<use color=\"rgb(  0,   0, 255)\" transform=\"translate(261.4,233.3) scale(5.60)\" xlink:href=\"#gpPt5\"/>\n\t<use color=\"rgb(  0,   0, 255)\" transform=\"translate(266.5,360.8) scale(5.60)\" xlink:href=\"#gpPt5\"/>\n\t<use color=\"rgb(  0,   0, 255)\" transform=\"translate(271.5,174.5) scale(5.60)\" xlink:href=\"#gpPt5\"/>\n\t<use color=\"rgb(  0,   0, 255)\" transform=\"translate(276.6,243.1) scale(5.60)\" xlink:href=\"#gpPt5\"/>\n\t<use color=\"rgb(  0,   0, 255)\" transform=\"translate(281.6,252.9) scale(5.60)\" xlink:href=\"#gpPt5\"/>\n\t<use color=\"rgb(  0,   0, 255)\" transform=\"translate(286.7,301.9) scale(5.60)\" xlink:href=\"#gpPt5\"/>\n\t<use color=\"rgb(  0,   0, 255)\" transform=\"translate(291.7,311.7) scale(5.60)\" xlink:href=\"#gpPt5\"/>\n\t<use color=\"rgb(  0,   0, 255)\" transform=\"translate(296.8,326.4) scale(5.60)\" xlink:href=\"#gpPt5\"/>\n\t<use color=\"rgb(  0,   0, 255)\" transform=\"translate(301.8,346.0) scale(5.60)\" xlink:href=\"#gpPt5\"/>\n\t<use color=\"rgb(  0,   0, 255)\" transform=\"translate(306.9,336.2) scale(5.60)\" xlink:href=\"#gpPt5\"/>\n\t<use color=\"rgb(  0,   0, 255)\" transform=\"translate(311.9,208.8) scale(5.60)\" xlink:href=\"#gpPt5\"/>\n\t<use color=\"rgb(  0,   0, 255)\" transform=\"translate(317.0,199.0) scale(5.60)\" xlink:href=\"#gpPt5\"/>\n\t<use color=\"rgb(  0,   0, 255)\" transform=\"translate(322.0,287.2) scale(5.60)\" xlink:href=\"#gpPt5\"/>\n\t<use color=\"rgb(  0,   0, 255)\" transform=\"translate(327.1,316.6) scale(5.60)\" xlink:href=\"#gpPt5\"/>\n\t<use color=\"rgb(  0,   0, 255)\" transform=\"translate(332.1,287.2) scale(5.60)\" xlink:href=\"#gpPt5\"/>\n\t<use color=\"rgb(  0,   0, 255)\" transform=\"translate(337.2,355.8) scale(5.60)\" xlink:href=\"#gpPt5\"/>\n\t<use color=\"rgb(  0,   0, 255)\" transform=\"translate(342.2,306.8) scale(5.60)\" xlink:href=\"#gpPt5\"/>\n\t<use color=\"rgb(  0,   0, 255)\" transform=\"translate(347.3,199.0) scale(5.60)\" xlink:href=\"#gpPt5\"/>\n\t<use color=\"rgb(  0,   0, 255)\" transform=\"translate(352.3,248.0) scale(5.60)\" xlink:href=\"#gpPt5\"/>\n\t<use color=\"rgb(  0,   0, 255)\" transform=\"translate(357.4,316.6) scale(5.60)\" xlink:href=\"#gpPt5\"/>\n\t<use color=\"rgb(  0,   0, 255)\" transform=\"translate(362.4,326.4) scale(5.60)\" xlink:href=\"#gpPt5\"/>\n\t<use color=\"rgb(  0,   0, 255)\" transform=\"translate(367.5,257.8) scale(5.60)\" xlink:href=\"#gpPt5\"/>\n\t<use color=\"rgb(  0,   0, 255)\" transform=\"translate(372.5,248.0) scale(5.60)\" xlink:href=\"#gpPt5\"/>\n\t<use color=\"rgb(  0,   0, 255)\" transform=\"translate(377.6,297.0) scale(5.60)\" xlink:href=\"#gpPt5\"/>\n\t<use color=\"rgb(  0,   0, 255)\" transform=\"translate(382.7,228.4) scale(5.60)\" xlink:href=\"#gpPt5\"/>\n\t<use color=\"rgb(  0,   0, 255)\" transform=\"translate(387.7,257.8) scale(5.60)\" xlink:href=\"#gpPt5\"/>\n\t<use color=\"rgb(  0,   0, 255)\" transform=\"translate(392.8,208.8) scale(5.60)\" xlink:href=\"#gpPt5\"/>\n\t<use color=\"rgb(  0,   0, 255)\" transform=\"translate(397.8,238.2) scale(5.60)\" xlink:href=\"#gpPt5\"/>\n\t<use color=\"rgb(  0,   0, 255)\" transform=\"translate(402.9,365.7) scale(5.60)\" xlink:href=\"#gpPt5\"/>\n\t<use color=\"rgb(  0,   0, 255)\" transform=\"translate(407.9,257.8) scale(5.60)\" xlink:href=\"#gpPt5\"/>\n\t<use color=\"rgb(  0,   0, 255)\" transform=\"translate(413.0,287.2) scale(5.60)\" xlink:href=\"#gpPt5\"/>\n\t<use color=\"rgb(  0,   0, 255)\" transform=\"translate(418.0,316.6) scale(5.60)\" xlink:href=\"#gpPt5\"/>\n\t<use color=\"rgb(  0,   0, 255)\" transform=\"translate(423.1,228.4) scale(5.60)\" xlink:href=\"#gpPt5\"/>\n\t<use color=\"rgb(  0,   0, 255)\" transform=\"translate(428.1,257.8) scale(5.60)\" xlink:href=\"#gpPt5\"/>\n\t<use color=\"rgb(  0,   0, 255)\" transform=\"translate(433.2,189.2) scale(5.60)\" xlink:href=\"#gpPt5\"/>\n\t<use color=\"rgb(  0,   0, 255)\" transform=\"translate(438.2,336.2) scale(5.60)\" xlink:href=\"#gpPt5\"/>\n\t<use color=\"rgb(  0,   0, 255)\" transform=\"translate(443.3,346.0) scale(5.60)\" xlink:href=\"#gpPt5\"/>\n\t<use color=\"rgb(  0,   0, 255)\" transform=\"translate(448.3,316.6) scale(5.60)\" xlink:href=\"#gpPt5\"/>\n\t<use color=\"rgb(  0,   0, 255)\" transform=\"translate(453.4,306.8) scale(5.60)\" xlink:href=\"#gpPt5\"/>\n\t<use color=\"rgb(  0,   0, 255)\" transform=\"translate(458.4,199.0) scale(5.60)\" xlink:href=\"#gpPt5\"/>\n\t<use color=\"rgb(  0,   0, 255)\" transform=\"translate(463.5,287.2) scale(5.60)\" xlink:href=\"#gpPt5\"/>\n\t<use color=\"rgb(  0,   0, 255)\" transform=\"translate(468.5,199.0) scale(5.60)\" xlink:href=\"#gpPt5\"/>\n\t<use color=\"rgb(  0,   0, 255)\" transform=\"translate(473.6,208.8) scale(5.60)\" xlink:href=\"#gpPt5\"/>\n\t<use color=\"rgb(  0,   0, 255)\" transform=\"translate(478.6,257.8) scale(5.60)\" xlink:href=\"#gpPt5\"/>\n\t<use color=\"rgb(  0,   0, 255)\" transform=\"translate(483.7,208.8) scale(5.60)\" xlink:href=\"#gpPt5\"/>\n\t<use color=\"rgb(  0,   0, 255)\" transform=\"translate(488.7,277.4) scale(5.60)\" xlink:href=\"#gpPt5\"/>\n\t<use color=\"rgb(  0,   0, 255)\" transform=\"translate(493.8,208.8) scale(5.60)\" xlink:href=\"#gpPt5\"/>\n\t<use color=\"rgb(  0,   0, 255)\" transform=\"translate(498.8,238.2) scale(5.60)\" xlink:href=\"#gpPt5\"/>\n\t<use color=\"rgb(  0,   0, 255)\" transform=\"translate(503.9,267.6) scale(5.60)\" xlink:href=\"#gpPt5\"/>\n\t<use color=\"rgb(  0,   0, 255)\" transform=\"translate(508.9,179.4) scale(5.60)\" xlink:href=\"#gpPt5\"/>\n\t<use color=\"rgb(  0,   0, 255)\" transform=\"translate(514.0,228.4) scale(5.60)\" xlink:href=\"#gpPt5\"/>\n\t<use color=\"rgb(  0,   0, 255)\" transform=\"translate(519.0,140.2) scale(5.60)\" xlink:href=\"#gpPt5\"/>\n\t<use color=\"rgb(  0,   0, 255)\" transform=\"translate(524.1,150.0) scale(5.60)\" xlink:href=\"#gpPt5\"/>\n\t<use color=\"rgb(  0,   0, 255)\" transform=\"translate(529.1,297.0) scale(5.60)\" xlink:href=\"#gpPt5\"/>\n\t<use color=\"rgb(  0,   0, 255)\" transform=\"translate(534.2,169.6) scale(5.60)\" xlink:href=\"#gpPt5\"/>\n\t<use color=\"rgb(  0,   0, 255)\" transform=\"translate(539.2,277.4) scale(5.60)\" xlink:href=\"#gpPt5\"/>\n\t<use color=\"rgb(  0,   0, 255)\" transform=\"translate(544.3,71.6) scale(5.60)\" xlink:href=\"#gpPt5\"/>\n\t<use color=\"rgb(  0,   0, 255)\" transform=\"translate(492.2,39.6) scale(5.60)\" xlink:href=\"#gpPt5\"/>\n</g>\n\t</g>\n<g color=\"#FFFFFF\" fill=\"none\" stroke=\"rgb(  0,   0, 255)\" stroke-linecap=\"butt\" stroke-linejoin=\"miter\" stroke-width=\"2.00\">\n</g>\n<g color=\"black\" fill=\"none\" stroke=\"currentColor\" stroke-linecap=\"butt\" stroke-linejoin=\"miter\" stroke-width=\"2.00\">\n</g>\n<g color=\"black\" fill=\"none\" stroke=\"black\" stroke-linecap=\"butt\" stroke-linejoin=\"miter\" stroke-width=\"0.50\">\n\t<path d=\"M44.3,397.5 L544.4,397.5 M44.3,11.2 L544.4,11.2 M44.3,397.5 L44.3,11.2 M544.4,397.5 L544.4,11.2    \" stroke=\"rgb( 38,  38,  38)\"/></g>\n<g color=\"black\" fill=\"none\" stroke=\"rgb( 38,  38,  38)\" stroke-linecap=\"butt\" stroke-linejoin=\"miter\" stroke-width=\"1.00\">\n</g>\n<g color=\"black\" fill=\"none\" stroke=\"currentColor\" stroke-linecap=\"butt\" stroke-linejoin=\"miter\" stroke-width=\"1.00\">\n</g>\n</g>\n</svg>",
      "text/plain": [
       "<IPython.core.display.SVG object>"
      ]
     },
     "execution_count": 5,
     "metadata": {
     },
     "output_type": "execute_result"
    }
   ],
   "source": [
    "x=linspace(0.98,1.02,100);\n",
    "f=(x-1).^8;\n",
    "g=x.^8 - 8*x.^7 + 28*x.^ 6 - 56*x.^5 + 70*x.^4 - 56*x.^3 + 28*x.^2 - 8*x + 1;\n",
    "plot(x,f,'m*',x,g,'bo')\n",
    "legend('f(x)','g(x)')"
   ]
  },
  {
   "cell_type": "markdown",
   "metadata": {
    "collapsed": false
   },
   "source": [
    "<br>\n",
    "<b>4.feladat.</b> Tekintsük dupla pontosság esetén az adott $m$ számok jobboldali szomszédjainak távolságát!\n",
    "<br>\n",
    "Dupla (Double) pontosság esetén\n",
    "<br>\n",
    "\n",
    "| $m$ | a jobboldali szomszéd távolsága \n",
    "| --- | --- | \n",
    "| $1$ | $\\approx 2.22 \\cdot 10^{-16}$| \n",
    "| $16$ | $\\approx 3.55 \\cdot 10^{-15}$ | \n",
    "| $1024$ | $\\approx 2.27 \\cdot 10^{-13}$ | \n",
    "| $2^{20} \\approx 10^6$ | $\\approx 2.33 \\cdot 10^{-10}$ | \n",
    "| $2^{52} \\approx 4.5 \\cdot 10^{15}$  | $1$ | \n",
    "| $2^{60} \\approx 1.15 \\cdot 10^{18}$ | $256$ | \n",
    "| $2^{66} \\approx 7.38 \\cdot 10^{19}$ | ? | \n",
    "\n",
    "Mennyi lesz ez az érték  $2^{66} \\approx 7.38 \\cdot 10^{19}$ esetén? Ehhez segítségképpen vizsgáljuk meg az alábbi<br>\n",
    "\n",
    "$$2^{66} + 1 == 2^{66},\\\n",
    "2^{66} + 10 == 2^{66},\\\n",
    "2^{66} + 100 == 2^{66},\\\n",
    "2^{66} + 1000 == 2^{66},\\ \n",
    "2^{66} + 10000 == 2^{66}$$ \n",
    "<br>\n",
    "logikai kifejezések értékét!"
   ]
  },
  {
   "cell_type": "code",
   "execution_count": 6,
   "metadata": {
    "collapsed": false
   },
   "outputs": [
    {
     "name": "stdout",
     "output_type": "stream",
     "text": [
      "ans = 1\n",
      "ans = 1\n",
      "ans = 1\n",
      "ans = 1\n",
      "ans = 0\n"
     ]
    }
   ],
   "source": [
    "2^66 + 1 == 2^66\n",
    "2^66 + 10 == 2^66\n",
    "2^66 + 100 == 2^66\n",
    "2^66 + 1000 == 2^66\n",
    "2^66 + 10000 == 2^66"
   ]
  },
  {
   "cell_type": "code",
   "execution_count": 7,
   "metadata": {
    "collapsed": false
   },
   "outputs": [
    {
     "name": "stdout",
     "output_type": "stream",
     "text": [
      "n =  8193\r\n"
     ]
    }
   ],
   "source": [
    "n=1;\n",
    "while 2^66 + n == 2^66\n",
    "   n++; \n",
    "end\n",
    "n"
   ]
  },
  {
   "cell_type": "markdown",
   "metadata": {
    "collapsed": false
   },
   "source": [
    "### Numerikus instabilitás"
   ]
  },
  {
   "cell_type": "markdown",
   "metadata": {
    "collapsed": false
   },
   "source": [
    "<br>\n",
    "<b>5.feladat.</b> Tekintsük az alábbi integrált:\n",
    "$$\\displaystyle I_n=\\int_0^1\\frac{x^n}{10+x}dx,$$ ahol $n\\in\\mathbb{N}$. Igazolható, hogy <br>\n",
    "\n",
    "+ $I_n\\geq 0$, <br>\n",
    "+ $I_{n+1}\\leq I_n$ és <br>\n",
    "+ $I_n\\to 0$, ha $n\\to\\infty$. <br>\n",
    "\n",
    "Továbbá $I_n$ kiszámítására felírható az alábbi\n",
    "$$I_n=\\frac{1}{n}-10I_{n-1},\\ I_0=\\ln(1.1) $$\n",
    "rekurzió is. \n",
    "<br><br>\n",
    "(a) Írjunk programot <i>rekurzio.m</i> néven, mely adott $n$-re kiszámolja az integrál közelítő értékét. Mit tapasztalunk nagy $n$ esetén? Adjunk ehhez precíz elméleti magyarázatot!"
   ]
  },
  {
   "cell_type": "code",
   "execution_count": 8,
   "metadata": {
    "collapsed": false
   },
   "outputs": [
    {
     "name": "stdout",
     "output_type": "stream",
     "text": [
      "I_1 =\r\n",
      "\r\n",
      "   9.531017980432493e-02\r\n",
      "   4.689820195675065e-02\r\n",
      "   3.101798043249349e-02\r\n",
      "   2.315352900839845e-02\r\n",
      "   1.846470991601545e-02\r\n",
      "   1.535290083984547e-02\r\n",
      "   1.313765826821192e-02\r\n",
      "   1.148056017502364e-02\r\n",
      "   1.019439824976365e-02\r\n",
      "   9.167128613474629e-03\r\n",
      "   8.328713865253717e-03\r\n",
      "   7.621952256553738e-03\r\n",
      "   7.113810767795950e-03\r\n",
      "   5.784969245117427e-03\r\n",
      "   1.357887897739715e-02\r\n",
      "  -6.912212310730485e-02\r\n",
      "   7.537212310730486e-01\r\n",
      "\r\n"
     ]
    }
   ],
   "source": [
    "[I_1] = rekurzio(16)"
   ]
  },
  {
   "cell_type": "markdown",
   "metadata": {
    "collapsed": false
   },
   "source": [
    "(b) Írjunk programot <i>stabilrekurzio.m</i> néven, mely stabillá teszi a rekurziót az $$I_{n}:=0,\\ I_{n-1}=\\frac{1}{10}\\left(\\frac{1}{n}-I_n\\right),$$\n",
    "rekurzió segítségével! "
   ]
  },
  {
   "cell_type": "code",
   "execution_count": 9,
   "metadata": {
    "collapsed": false
   },
   "outputs": [
    {
     "name": "stdout",
     "output_type": "stream",
     "text": [
      "I_2 =\r\n",
      "\r\n",
      "   4.689820195675141e-02\r\n",
      "   3.101798043248595e-02\r\n",
      "   2.315352900847383e-02\r\n",
      "   1.846470991526173e-02\r\n",
      "   1.535290084738269e-02\r\n",
      "   1.313765819283980e-02\r\n",
      "   1.148056092874487e-02\r\n",
      "   1.019439071255134e-02\r\n",
      "   9.167203985597736e-03\r\n",
      "   8.327960144022645e-03\r\n",
      "   7.629489468864469e-03\r\n",
      "   7.038438644688646e-03\r\n",
      "   6.538690476190476e-03\r\n",
      "   6.041666666666667e-03\r\n",
      "   6.250000000000000e-03\r\n",
      "   0.000000000000000e+00\r\n",
      "\r\n"
     ]
    }
   ],
   "source": [
    "[I_2] = stabilrekurzio(16)"
   ]
  },
  {
   "cell_type": "code",
   "execution_count": 0,
   "metadata": {
    "collapsed": false
   },
   "outputs": [
   ],
   "source": [
   ]
  }
 ],
 "metadata": {
  "kernelspec": {
   "display_name": "Octave",
   "language": "octave",
   "name": "octave",
   "resource_dir": "/ext/jupyter/kernels/octave"
  },
  "language_info": {
   "file_extension": ".m",
   "help_links": [
    {
     "text": "GNU Octave",
     "url": "https://www.gnu.org/software/octave/support.html"
    },
    {
     "text": "Octave Kernel",
     "url": "https://github.com/Calysto/octave_kernel"
    },
    {
     "text": "MetaKernel Magics",
     "url": "https://metakernel.readthedocs.io/en/latest/source/README.html"
    }
   ],
   "mimetype": "text/x-octave",
   "name": "octave",
   "version": "5.1.0"
  }
 },
 "nbformat": 4,
 "nbformat_minor": 4
}